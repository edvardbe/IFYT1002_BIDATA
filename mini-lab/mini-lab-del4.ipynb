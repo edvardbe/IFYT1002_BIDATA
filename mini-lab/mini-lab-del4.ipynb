{
 "cells": [
  {
   "cell_type": "markdown",
   "metadata": {},
   "source": [
    "## Mini-lab del 4 Numerisk beregning av heisens fart og posisjon\n",
    "\n",
    "\n",
    "<b>Bakgrunn og mål</b>\n",
    "\n",
    "I denne siste delen av lab-oppgaven skal du bruke de akselerasjonsdataene du har samlet fra en heis i bevegelse (eksempelvis i Realfagsbygget på NTNU). Formålet med denne oppgaven er å\n",
    "<ol>\n",
    "<li>Beregne heisens fart 𝑣(𝑡).</li>\n",
    "<li>Beregne heisens forflytning 𝑠(𝑡).</li>\n",
    "<li>Hensikten med denne laben er å få erfaring med presentasjon og formidling av eksperimentelle data.</li>\n",
    "</ol>\n",
    "\n",
    "I denne oppgaven kan du støtte deg på/bruke et selvvalgt KI-verktøy.\n",
    "<ol>\n",
    "<li>Hvilket KI-systemet bruker du?</li>\n",
    "<li>Hvilket prompt du bruker?</li>\n",
    "<li>Endelig kildekode skal være med i innleveringen.</li>\n",
    "</ol>"
   ]
  },
  {
   "cell_type": "markdown",
   "metadata": {},
   "source": [
    "# Del A: Beregne farten fra akselerasjonsdata\n",
    "Du skal regne ut farten $𝑣(𝑡)$ til heisen fra de målte akselerasjonsdataene $𝑎(𝑡)$. I praksis må du løse differensialligningen\n",
    "\n",
    "$\\frac{dv}{dt}=a(t)  \\Longrightarrow \\int_{v_0}^v dv=\\int_{t_0}^t a(t)⋅dt$\n",
    "\n",
    "Numerisk tilsvarer dette å løse integralet$\n",
    "\n",
    "$v=v_0+ \\int_{t_0}^t a(t) dt$\n",
    "\n",
    "Her kan du velge blant flere mulige algoritmer for numerisk integrasjon. Python har ferdige funksjoner for Riemann-sum, trapesmetoden og simpsons metode for numerisk integrasjon (scipy.integrate).\n",
    "\n",
    "<b>Plot av fart vs. tid</b>\n",
    "<ol>\n",
    "<li>Regn ut farten $𝑣(𝑡)$ til heisen fra akselerasjonsdataene.</li>\n",
    "<li>2. Presenter $𝑣(𝑡)$ som funksjon av tiden.</li>\n",
    "</ol>\n",
    "\n",
    "<b>Refleksjon og feilsøking</b>\n",
    "<ol>\n",
    "<li>Vurder om den utregnede farten er rimelig i forhold til det du forventer?</li>\n",
    "<li>På hvilke tidspunkter i tidsserien forventer du at heisen har hastighet lik null? Stemmer dette med den farten du har regnet ut?</li>\n",
    "<li>Hvis du har problem med punkt 2. Hva skyldes dette? Og hvordan kan du korrigere for dette?</li>\n",
    "<ol>"
   ]
  },
  {
   "cell_type": "markdown",
   "metadata": {},
   "source": [
    "# Del B: Beregne posisjonen fra farten\n",
    "\n",
    "Når farten $v(t)$ er kjent, finner du posisjonen $s(t)$ fra:\n",
    "\n",
    "$\\frac{ds}{dt}=v \\Longrightarrow \\int_{s_0}^s ds=\\int_{t_0}^t v(t)⋅dt$\n",
    "\n",
    "Ved å benytte samme numeriske metode som i punkt A.\n",
    "\n",
    "<b>Analyser bevegelsen:</b>\n",
    "<ol>\n",
    "<li>Hvor mange etasjer tok du heisen?</li>\n",
    "<li>Hvor langt har heisen flyttet seg basert på dine målte data?</li>\n",
    "<li>Sammenlign dine resultater med at en målt avstand mellom to etasjer i Realfagbygget er målt til 3.75 $ \\pm $ 0.01 meter. $v(t)$</li>\n",
    "</ol>\n",
    "<b>Refleksjon og feilsøking:</b>\n",
    "<ol>\n",
    "<li>Viser resultatene dine en logisk start -og sluttposisjon? (Ser det ut som at heisen står i ro ved start -og sluttposisjon?).</li>\n",
    "<li>Kommenter eventuelle problemer med målingene.</li>\n",
    "</ol>\n",
    "<b>Konklusjon:</b>\n",
    "<ol>\n",
    "<li>Konkluder kort resultatene dine.</li>\n",
    "</ol>"
   ]
  },
  {
   "cell_type": "markdown",
   "metadata": {},
   "source": [
    "# Del C: Samle og gi en samlet presentasjon av mini-labene\n",
    "\n",
    "Samle mini-lab 2, 3 og 4 i ett Jupyter-notebook dokument. Pass på at alle figurer har passende titler, aksebeskrivelser og blir forklart i teksten. Dette dokumentet skal nå inneholde alle figurer, kode, kommentarer og refleksjoner. Det innleverte Jupyter-dokumentet, når den blir godkjent, er din versjon av lab i emnet IFYT1002.\n"
   ]
  }
 ],
 "metadata": {
  "language_info": {
   "name": "python"
  }
 },
 "nbformat": 4,
 "nbformat_minor": 2
}
