{
 "cells": [
  {
   "cell_type": "markdown",
   "metadata": {},
   "source": [
    "## Mini-lab del 4 Numerisk beregning av heisens fart og posisjon\n",
    "\n",
    "\n",
    "<b>Bakgrunn og mål</b>\n",
    "\n",
    "I denne siste delen av lab-oppgaven skal du bruke de akselerasjonsdataene du har målt fra en heis i bevegelse (antatt i Realfagbygget på NTNU). Målet er først å beregne heisens fart som funksjon av tid, for deretter å finne dens posisjon.\n",
    "Du kan i siste del støtte deg på KI-verktøy for å løse programmeringsoppgaver. Dersom du velger å bruke KI, skal du forklare hvordan du bruker det (prompt du bruker), og hva det bidrar med (for eksempel kodehjelp, tips til metoder, feilsøking, osv.).\n",
    "\n",
    "# Del A: Beregne farten fra akselerasjonsdata\n",
    "\n",
    "<b>Beregning av fart</b>\n",
    "\n",
    "Du skal regne ut farten $v(t)$ fra akselerasjonen $a(t)$ ved å løse den enkleste formen for differensialligningen\n",
    "\n",
    "$\\frac{dv}{dt}=a(t)$\n",
    "\n",
    "Numerisk tilsvarer dette å løse integralet\n",
    "\n",
    "$\\int dv=\\int a(t)⋅dt$\n",
    "\n",
    "$v=v_0+ \\int a(t)  dt$\n",
    "\n",
    "Du kan velge blant flere algoritmer for numerisk integrasjon. En enkel metode er trapesmetoden (se eksempelet nedenfor).\n",
    "\n",
    "Eksempelkode som viser en numerisk integrasjon i der med cumtrapz fra SciPy"
   ]
  },
  {
   "cell_type": "code",
   "execution_count": null,
   "metadata": {
    "vscode": {
     "languageId": "plaintext"
    }
   },
   "outputs": [],
   "source": [
    "from scipy.integrate import cumtrapz\n",
    "fart = cumtrapz(signal, tid, initial=0)"
   ]
  },
  {
   "cell_type": "markdown",
   "metadata": {},
   "source": [
    "Her tilsvarer signal akselerasjonsmålingene dine, og tid er tiden for hver måling.\n",
    "\n",
    "<b>Plot av fart vs. tid</b>\n",
    "<ol>\n",
    "<li>Regn deg frem til farten og plott $v(t)$ som funksjon av tiden.</li>\n",
    "\n",
    "<li>Presenter de målte dataene (f.eks. som punkter eller kurve) i samme figur eller i en separat framstilling, hvis hensiktsmessig.</li>\n",
    "\n",
    "<li>Inkluder en kort forklaring av hva figuren viser, og begrunn eventuelle valg du har gjort (for eksempel metode, korrigering av data).</li>\n",
    "</ol>\n",
    "\n",
    "<b>Refleksjon og feilsøking</b>\n",
    "<ol>\n",
    "<li>Vurdering av resultater: Ser målingen av farten rimelig ut sammenlignet med forventningene (heisen bør for eksempel stoppe på toppen og bunnen av bevegelsen)?</li>\n",
    "\n",
    "<li>Tidsrom med null fart: På hvilke tidspunkt(er) i tidsserien forventer du at heisen har hastighet lik null? Stemmer det med resultatene dine du har vist i plottet, for farten du har funnet?</li>\n",
    "\n",
    "<li>Målefeil og korreksjoner: Dersom det er avvik eller støy, hvordan kan du eventuelt korrigere for dem? Forklar hvilke feil du ser, og hvordan de oppstår (f.eks. kalibreringsfeil, støy i sensoren).</li>\n",
    "\n",
    "<li>Løsninger og justeringer: Beskriv hvordan du gikk fram for å gjøre dataene mer “meningsfulle”. Hvis du brukte AI for feilsøking eller forbedring av koden, beskriv bruken konkret.</li>\n",
    "<ol>"
   ]
  },
  {
   "cell_type": "markdown",
   "metadata": {},
   "source": [
    "# Del B: Beregne posisjonen fra farten\n",
    "\n",
    "<b>Prinsipp for posisjon</b>\n",
    "\n",
    "Når farten $v(t)$ er kjent, kan du finne posisjonen $s(t)$ ved å løse:\n",
    "\n",
    "$\\int ds=\\int v(t)⋅dt$\n",
    "\n",
    "$s=s_0+\\int v(t) dt$\n",
    "Dette kan også gjøres ved trapesmetoden eller en lignende numerisk integrasjonsmetode."
   ]
  },
  {
   "cell_type": "code",
   "execution_count": null,
   "metadata": {
    "vscode": {
     "languageId": "plaintext"
    }
   },
   "outputs": [],
   "source": [
    "pos = cumtrapz(fart, tid, initial=0)"
   ]
  },
  {
   "cell_type": "markdown",
   "metadata": {},
   "source": [
    "\n",
    "Her tilsvarer fart den beregnede hastigheten, og tid er tidsvektoren.\n",
    "\n",
    "<b>Analyser bevegelsen</b>\n",
    "<ol>\n",
    "<li>Hvor mange etasjer?: </li>\n",
    "<li>Fra posisjon vs. tid kan du anslå hvilken høydeforskjell heisen har tilbakelagt, og dermed hvor mange etasjer den har passert.</li>\n",
    "<li>Reell distanse: Hvor mange meter har heisen egentlig beveget seg (opp eller ned)? </li>\n",
    "<li>Bruk relevant omregningsfaktor hvis du kjenner etasjehøyde.</li>\n",
    "</ol>\n",
    "\n",
    "<b>Diskuter om resultatene er realistiske</b>\n",
    "\n",
    "<ol>\n",
    "<li>Viser resultatene en logisk start- og sluttposisjon?</li>\n",
    "\n",
    "<li>Eventuelle målefeil på akselerasjonen påvirker også integrasjonen, så kommenter gjerne usikkerheter.</li>\n",
    "</ol>"
   ]
  },
  {
   "cell_type": "markdown",
   "metadata": {},
   "source": [
    "# Del C: Samle og gi en samlet presentasjon av mini-labene\n",
    "\n",
    "<b>Oppsummering av minilab 2, 3 og 4</b>\n",
    "\n",
    "Sett sammen oppgavene fra tidligere minilaber og denne delen i en Jupyter Notebook-fil.  Forsikre deg om at alle figurer har passende titler, aksemerking og forklaringer. Pass på at alle metodene du har brukt, og eventuelle justeringer av data er beskrevet.\n",
    "\n",
    "<b>Bruk av KI-verktøy </b>\n",
    "\n",
    "Der du benytter KI i denne delen (eller del 3), beskriv hva du brukte det til, prompt du har brukt, hvordan det hjalp deg og noen refleksjoner rundt måten du brukte det på.\n",
    "\n",
    "<b>Innlevering</b>\n",
    "\n",
    "Send inn besvarelsen som en Jupyter Notebook-fil. Filen inneholder figurer, kode og dine kommentarer og refleksjoner. Sørg for at du kommenterer koden og tar med konklusjoner og refleksjoner om feil, usikkerhet og mulige forbedringer. Dette er, om den blir godkjent, din versjon av lab i emnet IFYT1002.\n"
   ]
  }
 ],
 "metadata": {
  "language_info": {
   "name": "python"
  }
 },
 "nbformat": 4,
 "nbformat_minor": 2
}
