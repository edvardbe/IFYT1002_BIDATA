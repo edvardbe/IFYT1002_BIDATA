{
 "cells": [
  {
   "attachments": {},
   "cell_type": "markdown",
   "metadata": {},
   "source": [
    "# Øving 6\n",
    "## Oppgave 1\n",
    "Grafen under viser vinkelhastigheten $\\omega(t)$ for akselen på en batteridrevet drill fra den startes ved $t=0$:\n",
    "\n",
    "<center><img src=\"figurer/vinkelfart_graf.png\" alt=\"\" style=\"width: 200px;\"/></center>\n",
    "\n",
    "\n",
    "a) Hvilken av grafene A-E under viser riktig graf for drillens vinkelakselerasjon $\\alpha(t)$?\n",
    "\n",
    "<center><img src=\"figurer/vinkelakselerasjon_grafer.png\" alt=\"\" style=\"width: 400px;\"/></center>\n",
    "\n",
    "b) For en annen drill beskrives vinkelfarten $\\omega(t)$ for akselen av funksjonsuttrykket $\\omega(t)=(10 \\textrm{ rad/s}) (1-e^{-(\\frac{t}{0,50 \\textrm{ s}})^2})$. \n",
    "\n",
    "La $\\theta$ være den tilsvarende roterte vinkelen for akselen, målt i radianer, i et bestemt tidsrom. Hva er sammenhengen mellom $\\theta$ og antall omdreininger $n$?\n",
    "\n",
    "A. $n=\\theta \\cdot 2 \\pi$\n",
    "\n",
    "B. $n=\\theta \\cdot  \\pi$\n",
    "\n",
    "C. $n=\\frac{\\theta}{2 \\pi}$\n",
    "\n",
    "D. $n=\\frac{\\theta}{ \\pi}$\n",
    "\n",
    "E. $n=\\frac{2 \\pi}{\\theta}$\n",
    "\n",
    "c) Hvor mange omdreininger roterer drillen fra $t=0$ til $t=10 \\textrm{ s}$? [Hint: Rotert vinkel $\\theta$ kan beregnes ved numerisk utregning av integralet $\\int_a^b \\omega(t)dt$, som vist i eksempelkoden bakerst.]\n",
    "\n",
    "d) En bestemt elektromotor klarer å produsere en jevnt økende vinkelakselerasjon $\\alpha(t)=bt$, der $b=1,0 \\textrm{ rad/s}^3$ og $t$ angis i sekunder.\n",
    "\n",
    "Bestem vinkelfarten $\\omega(t)$ og rotert vinkel $\\theta(t)$ dersom $\\omega(0)=0$ og $\\theta(0)=0$.\n",
    "\n",
    "\n"
   ]
  },
  {
   "attachments": {},
   "cell_type": "markdown",
   "metadata": {},
   "source": [
    "## Oppgave 2\n",
    "Rotasjonshastigheten til svinghjulet på en spinningsykkel øker jevnt fra stillestående til 90 rpm i løpet av $5,0 \\textrm{ s}$. (rpm = rounds per minute = omdreininger i minuttet)\n",
    "\n",
    "a) Bestem svinghjulets vinkelakselerasjon i dette tidsrommet.\n",
    "\n",
    "b) Ved en annen anledning gjennomgår svinghjulet følgende prosess:\n",
    "\n",
    "1. Jevn økning fra 0 til 90 rpm i løpet av $5,0 \\textrm{ s}$\n",
    "2. Konstant rotasjonshastighet i $60 \\textrm{ s}$\n",
    "3. Hjulet bremses jevnt til stillestående i løpet av $5,0 \\textrm{ s}$.\n",
    "\n",
    "Hvor mange omdreininger har svinghjulet gjort i løpet av denne prosessen?\n"
   ]
  },
  {
   "attachments": {},
   "cell_type": "markdown",
   "metadata": {},
   "source": [
    "## Oppgave 3\n",
    "En sykkel har hjul med diameter 29 tommmer. Hvor mange omdreininger per minutt roterer hjulet med når sykkelen triller med fart på $30 \\textrm{ km/h}$ i forhold til underlaget, og hjulet ruller uten å gli?"
   ]
  },
  {
   "cell_type": "markdown",
   "metadata": {},
   "source": [
    "## Oppgave 4\n",
    "Bestem det totale treghetsmomentet for et sykkelhjul (uten dekk) om en akse normalt på hjulet, gjennom hjulets sentrum, for hjulet på figuren under:\n",
    "\n",
    "<center><img src=\"figurer/sykkelhjul.png\" alt=\"\" style=\"height: 400px;\"/></center>\n",
    "\n",
    "1. Nav: Massiv sylinder med masse $m_1$ og radius $r$\n",
    "2. Eiker: 8 stk. tynne stenger, hver eik med masse $m_2$ og lengde $L$. Disse er spent mellom kanten av navet og felgen.\n",
    "3. Felg: Tynnvegget sylinder med masse $m_3$ og radius $r+L$"
   ]
  },
  {
   "cell_type": "code",
   "execution_count": 2,
   "metadata": {},
   "outputs": [
    {
     "name": "stdout",
     "output_type": "stream",
     "text": [
      "1.7724538509027912\n"
     ]
    }
   ],
   "source": [
    "#Eksempelkode: Numerisk integrasjon \n",
    "import numpy as np\n",
    "import math\n",
    "import scipy.integrate as integrate\n",
    "\n",
    "#Definerer funksjonen f(x) som skal integreres\n",
    "def f(x):\n",
    "    f=math.exp(-x**2) #f(x)=e^(-x^2)\n",
    "    return f\n",
    " \n",
    "#Beregner integralet av funksjonen på intervallet (-5,5). Returnerer tuple med\n",
    "#(integral,usikkerhet)\n",
    "I,usikkerhet=integrate.quad(f,-5,5)\n",
    "print(I)\n"
   ]
  },
  {
   "cell_type": "markdown",
   "metadata": {},
   "source": [
    "## Oppgave 5 Se egen mini-lab del 4\n",
    "\n",
    "Leveres separat under mini-lab mappa. "
   ]
  }
 ],
 "metadata": {
  "kernelspec": {
   "display_name": "Python 3",
   "language": "python",
   "name": "python3"
  },
  "language_info": {
   "codemirror_mode": {
    "name": "ipython",
    "version": 3
   },
   "file_extension": ".py",
   "mimetype": "text/x-python",
   "name": "python",
   "nbconvert_exporter": "python",
   "pygments_lexer": "ipython3",
   "version": "3.8.5"
  },
  "vscode": {
   "interpreter": {
    "hash": "551ea7ae10b114133e2fbac23ef1e8e3e30b0e580eb9fe1d9fc046518af6d1fa"
   }
  }
 },
 "nbformat": 4,
 "nbformat_minor": 2
}
