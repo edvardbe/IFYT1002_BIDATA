{
 "cells": [
  {
   "attachments": {},
   "cell_type": "markdown",
   "metadata": {},
   "source": [
    "# Øving 6\n",
    "## Oppgave 1\n",
    "Grafen under viser vinkelhastigheten $\\omega(t)$ for akselen på en batteridrevet drill fra den startes ved $t=0$:\n",
    "\n",
    "<center><img src=\"figurer/vinkelfart_graf.png\" alt=\"\" style=\"width: 200px;\"/></center>\n",
    "\n",
    "\n",
    "a) Hvilken av grafene A-E under viser riktig graf for drillens vinkelakselerasjon $\\alpha(t)$?\n",
    "\n",
    "<center><img src=\"figurer/vinkelakselerasjon_grafer.png\" alt=\"\" style=\"width: 400px;\"/></center>\n",
    "\n",
    "b) For en annen drill beskrives vinkelfarten $\\omega(t)$ for akselen av funksjonsuttrykket $\\omega(t)=(10 \\textrm{ rad/s}) (1-e^{-(\\frac{t}{0,50 \\textrm{ s}})^2})$. \n",
    "\n",
    "La $\\theta$ være den tilsvarende roterte vinkelen for akselen, målt i radianer, i et bestemt tidsrom. Hva er sammenhengen mellom $\\theta$ og antall omdreininger $n$?\n",
    "\n",
    "A. $n=\\theta \\cdot 2 \\pi$\n",
    "\n",
    "B. $n=\\theta \\cdot  \\pi$\n",
    "\n",
    "C. $n=\\frac{\\theta}{2 \\pi}$\n",
    "\n",
    "D. $n=\\frac{\\theta}{ \\pi}$\n",
    "\n",
    "E. $n=\\frac{2 \\pi}{\\theta}$\n",
    "\n",
    "c) Hvor mange omdreininger roterer drillen fra $t=0$ til $t=10 \\textrm{ s}$? [Hint: Rotert vinkel $\\theta$ kan beregnes ved numerisk utregning av integralet $\\int_a^b \\omega(t)dt$, som vist i eksempelkoden bakerst.]\n",
    "\n",
    "d) En bestemt elektromotor klarer å produsere en jevnt økende vinkelakselerasjon $\\alpha(t)=bt$, der $b=1,0 \\textrm{ rad/s}^3$ og $t$ angis i sekunder.\n",
    "\n",
    "Bestem vinkelfarten $\\omega(t)$ og rotert vinkel $\\theta(t)$ dersom $\\omega(0)=0$ og $\\theta(0)=0$.\n",
    "\n",
    "\n"
   ]
  },
  {
   "cell_type": "markdown",
   "metadata": {},
   "source": [
    "### Løsning 1\n",
    "\\\n",
    "**a)**\n",
    "\\\n",
    "**A** - Alternativ A ser ut til å illustrere en mer passende graf for vinkelakselerasjonen, $a(t)$ til akselen i en batteridrevet drill gitt grafen for vinkelhastighet, $\\omega (t)$. Dette kan man se fordi hastigheten øker mest i starten og øker mindre og mindre etter som tiden øker. Man kan også se det ved at hastighetsgrafen er logaritmisk, $\\omega (t) = O(ln \\space t)$, noe som betyr at den deriverte vil være en omvendt proposjonal funksjon, $a(t) = O(\\frac{1}{t})$.\n",
    "\\\n",
    "**b)**\n",
    "\\\n",
    "**C** - Hvis $\\theta$ tilsvarer den roterte vinkelen til drillen målt i radianer vil sammenhengen mellom $\\theta$ og antall omdreininger $n$ være, $n = \\frac{\\theta}{2 \\pi}$ som betyr at svaralternativ C er riktig. Dersom $\\theta = 2 \\pi$ altså om den roterte vinkelen, målt i radianer, har gått en hel runde rundt akselen vil da $n = \\frac{2 \\pi}{2 \\pi} = 1$ og antall omdreininger er 1.\n",
    "\\\n",
    "**c)**\n",
    "\\\n",
    "**15** - Gjennom utregning med bestemt integral fant jeg omdreinings vinkelen $\\theta = 95.5688653727362$ putter jeg denne vinkelen i formelen for antall omdreininger fra forrige oppgave finner vi at $n = 15.210257329754837 \\approx 15$\n",
    "\\\n",
    "**d)**\n",
    "\\\n",
    "Vinkelakselerasjonen er gitt ved følgende funksjon.\n",
    "$$a(t) = 1.0 rad/s^3 \\cdot t$$\n",
    "\n",
    "Vi kan så finne funksjonen for vinkelfarten, $\\omega (t)$, ved å finne akselerasjonens første ordens antideriverte.\n",
    "\n",
    "$$\\omega (t) = \\frac{1}{2} \\cdot 1.0 rad/s^3 \\cdot t^2 + C_1$$\n",
    "\n",
    "Videre kan vi finne funksjonen for vinkelen, $\\theta (t)$, ved å finne akselerasjonens andre ordens antideriverte, med andre ord ved integrasjon av vinkelfarten, $\\omega (t)$.\n",
    "\n",
    "$$\\theta (t) = \\frac{1}{3} \\cdot \\frac{1}{2} \\cdot 1.0 rad/s^3 \\cdot t^3 + C_2$$\n",
    "\n",
    "Gitt initialbetingelsene, $\\omega(0)=0$ og $\\theta(0)=0$, impliserer dette at konstantleddene $C_1 = C_2 = 0$.\n",
    "\n",
    "Dermed får vi følgende funksjoner.\n",
    "\n",
    "$$\\omega (t) = \\frac{1}{2} rad/s^3 \\cdot t^2$$\n",
    "\n",
    "$$\\theta (t) = \\frac{1}{6} rad/s^3 \\cdot t^3$$\n"
   ]
  },
  {
   "attachments": {},
   "cell_type": "markdown",
   "metadata": {},
   "source": [
    "## Oppgave 2\n",
    "Rotasjonshastigheten til svinghjulet på en spinningsykkel øker jevnt fra stillestående til 90 rpm i løpet av $5,0 \\textrm{ s}$. (rpm = rounds per minute = omdreininger i minuttet)\n",
    "\n",
    "a) Bestem svinghjulets vinkelakselerasjon i dette tidsrommet.\n",
    "\n",
    "b) Ved en annen anledning gjennomgår svinghjulet følgende prosess:\n",
    "\n",
    "1. Jevn økning fra 0 til 90 rpm i løpet av $5,0 \\textrm{ s}$\n",
    "2. Konstant rotasjonshastighet i $60 \\textrm{ s}$\n",
    "3. Hjulet bremses jevnt til stillestående i løpet av $5,0 \\textrm{ s}$.\n",
    "\n",
    "Hvor mange omdreininger har svinghjulet gjort i løpet av denne prosessen?\n"
   ]
  },
  {
   "cell_type": "markdown",
   "metadata": {},
   "source": [
    "### Løsning 2\n",
    "\n",
    "**a)**\n",
    "\\\n",
    "Vinkelakselerasjon er uttrykt som.\n",
    "$$a = \\frac{\\Delta \\omega}{\\Delta t} = \\frac{\\omega _1 - \\omega _0}{t_1 - t_0}$$\n",
    "\n",
    "Vi kan og finne uttryk for vinkelfraten fra omdreinings frekvensen, 90 rpm. \n",
    "\n",
    "$$\\omega _1 = 90 rpm = 90 \\cdot 2 \\pi \\space rad / 60 s = 9.425 \\space rad / s$$\n",
    "\n",
    "Vi bruker nå denne vinkelfarten i formelen for vinkelakselerasjon.\n",
    "\n",
    "$$a = \\frac{9.425 \\space rad / s - 0}{5.0 s - 0} = 1.885 rad / s^2 \\approx 1.9 rad / s^2$$\n",
    "\\\n",
    "**b)**\n",
    "\n",
    "1. Ved steg en kan vi finne antall omdreininger ved hjelp av bestemt integrasjon mellom $t = 0$ og $t = 5.0$.\n",
    "$$\\omega (0s < t < 5.0s) =\\int 1.9 \\space rad/s^2 dt = 1.9 \\space rad/s^2 \\cdot t$$\n",
    "$$\\theta (0s < t < 5.0s) =\\int \\omega (0s < t < 5.0s) = \\int 1.9 \\space rad/s^2 \\cdot t \\space dt = \\frac{1.9}{2} \\space rad/s^2 \\cdot t^2$$\n",
    "$$\\theta (0s < t < 5.0s) = \\int _{0}^{5.0} \\omega (0s < t < 5.0s) = \\int _{0}^{5.0} 1.9 \\space rad/s^2 \\cdot t \\space dt $$ \n",
    "$$\\frac{1.9}{2} \\space rad/s^2 \\cdot (5.0 s)^2 - \\frac{1.9}{2} \\space rad/s^2 \\cdot (0 s)^2 = 23.75 rad \\approx 4 runder$$\n",
    "Vi ser i intervallet mellom $t = 0$ og $t = 5.0$ at det skjer omtrent 4 omdreininger.\n",
    "\n",
    "2. I steg to er det en konstant rotasjonshastighet på 90 rpm i løpet av et minutt, 60s. Altså er det 90 omdreininger i dette steget.\n",
    "\n",
    "\n",
    "3. Like mange omdreininger som i første steg, 4 omdreininger. \n",
    "\n",
    "Dermed blir antall omdreininger totalt $n = 4 + 90 + 4 = 98$"
   ]
  },
  {
   "attachments": {},
   "cell_type": "markdown",
   "metadata": {},
   "source": [
    "## Oppgave 3\n",
    "En sykkel har hjul med diameter 29 tommmer. Hvor mange omdreininger per minutt roterer hjulet med når sykkelen triller med fart på $30 \\textrm{ km/h}$ i forhold til underlaget, og hjulet ruller uten å gli?"
   ]
  },
  {
   "cell_type": "markdown",
   "metadata": {},
   "source": [
    "### Løsning 3\n",
    "\n",
    "Med en diameter\n",
    "\n",
    "$$D = 2r = 29 \\space tommer = 29 \\cdot 2.54 \\cdot \\frac{1}{100} m = 0.7366 m $$\n",
    "\n",
    "betyr det at hjulet har en omkrets på \n",
    "\n",
    "$$O = 2 \\pi r = D \\cdot \\pi = 2.314 m \\approx 2.31 m$$\n",
    "\n",
    "For hver omdreining har hjulet beveget seg en strekning lik omkretsen, $O = 2.31 m$. Gjør vi om på farten slik at den viser meter per minutt kan vi enklere finne antall omdreininger per minutt.\n",
    "\n",
    "$$v = 30 km/h = 30 \\cdot 1000 m/60 min = 500m/min$$\n",
    "\n",
    "Om vi så deler antall meter per minutt på omkretsen får vi antall omdreininger per minuttm, $f$.\n",
    "\n",
    "$$f = \\frac{v}{O} = \\frac{500m/min}{2.31 m} = 216 \\space rpm \\approx 2.2 \\cdot 10^2 rpm$$\n",
    "\n"
   ]
  },
  {
   "cell_type": "markdown",
   "metadata": {},
   "source": [
    "## Oppgave 4\n",
    "Bestem det totale treghetsmomentet for et sykkelhjul (uten dekk) om en akse normalt på hjulet, gjennom hjulets sentrum, for hjulet på figuren under:\n",
    "\n",
    "<center><img src=\"figurer/sykkelhjul.png\" alt=\"\" style=\"height: 400px;\"/></center>\n",
    "\n",
    "1. Nav: Massiv sylinder med masse $m_1$ og radius $r$\n",
    "2. Eiker: 8 stk. tynne stenger, hver eik med masse $m_2$ og lengde $L$. Disse er spent mellom kanten av navet og felgen.\n",
    "3. Felg: Tynnvegget sylinder med masse $m_3$ og radius $r+L$"
   ]
  },
  {
   "cell_type": "markdown",
   "metadata": {},
   "source": [
    "### Løsning 4\n",
    "\n",
    "1. Finner treghetsmoment med formel for solid sylinder.\n",
    "$$I_{Nav} = \\frac{1}{2} m_1 r^2$$\n",
    "\n",
    "2. Finner treghetsmoment med parallell akse-teoremet. Der vi finner $I_{t-rod}$ ved hjelp av formel for tynne stenger med akse gjennom sentrum av lengden.\n",
    "\n",
    "$$I_{t-rod} = m^2 \\frac{L^2}{12}$$\n",
    "\n",
    "Avstanden mellom aksene er $d = r + \\frac{L}{2}$ ettersom aksen til den tynne stangen er i sentrum av lengden.\n",
    "\n",
    "$$I_{Eik} = m_2 \\frac{L^2}{12} + m_2 (r + \\frac{L}{2})^2$$\n",
    "\n",
    "3. Så kan vi finne det siste treghetsmomentet ved å bruke formelen for tynnvegget sylinder (hoop).\n",
    "$$I_{Felg} = m_3(r + L)^2$$\n",
    "\n",
    "\n",
    "Til slutt kan legger vi det hele sammen for å finne hele treghetsmomentet til sykkehjulet.\n",
    "\n",
    "$$I_{Hjul} = I_{Nav} + 8 \\cdot I_{Eik} + I_{Felg}= \\frac{1}{2} m_1 r^2 + 8 \\cdot m_2 (\\frac{L^2}{12} + (\\frac{L}{2} + r)^2) + m_3(r + L)^2$$"
   ]
  },
  {
   "cell_type": "code",
   "execution_count": 13,
   "metadata": {},
   "outputs": [
    {
     "name": "stdout",
     "output_type": "stream",
     "text": [
      "95.5688653727362 15.210257329754837\n"
     ]
    }
   ],
   "source": [
    "#Eksempelkode: Numerisk integrasjon \n",
    "import numpy as np\n",
    "import math\n",
    "import scipy.integrate as integrate\n",
    "\n",
    "#Definerer funksjonen f(x) som skal integreres\n",
    "def f(x):\n",
    "    f=10*(1 - math.exp(-(x/0.5)**2)) #f(x)=10*(1 - e^(-(x/0.5)^2))\n",
    "    return f\n",
    " \n",
    "#Beregner integralet av funksjonen på intervallet (-5,5). Returnerer tuple med\n",
    "#(integral,usikkerhet)\n",
    "I,usikkerhet=integrate.quad(f,0,10)\n",
    "n = I / (2 * np.pi)\n",
    "print(I, n)\n"
   ]
  },
  {
   "cell_type": "markdown",
   "metadata": {},
   "source": [
    "## Oppgave 5 Se egen mini-lab del 4\n",
    "\n",
    "Leveres separat under mini-lab mappa. "
   ]
  }
 ],
 "metadata": {
  "kernelspec": {
   "display_name": "Python 3",
   "language": "python",
   "name": "python3"
  },
  "language_info": {
   "codemirror_mode": {
    "name": "ipython",
    "version": 3
   },
   "file_extension": ".py",
   "mimetype": "text/x-python",
   "name": "python",
   "nbconvert_exporter": "python",
   "pygments_lexer": "ipython3",
   "version": "3.12.6"
  },
  "vscode": {
   "interpreter": {
    "hash": "551ea7ae10b114133e2fbac23ef1e8e3e30b0e580eb9fe1d9fc046518af6d1fa"
   }
  }
 },
 "nbformat": 4,
 "nbformat_minor": 2
}
