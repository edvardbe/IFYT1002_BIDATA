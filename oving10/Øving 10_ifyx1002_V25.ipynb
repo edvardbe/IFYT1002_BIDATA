{
 "cells": [
  {
   "cell_type": "markdown",
   "metadata": {},
   "source": [
    "# Øving 10\n",
    "# Oppgave 1\n",
    "Kobber har resistivitet $\\rho_{\\textrm{Cu}}=1,68 \\cdot 10^{-8} \\ \\Omega \\textrm{m}$, mens aluminium har $\\rho_{\\textrm{Al}}=2,65 \\cdot 10^{-8} \\ \\Omega \\textrm{m}$. Vi skal konstruere to kabler, én med kobberleder og én med aluminiumsleder. \n",
    "\n",
    "Hva må forholdet $\\frac{d_{\\textrm{Al}}}{d_{\\textrm{Cu}}}$ mellom diameteren til hhv. aluminiums- og kobberlederen være for at kablene skal ha samme resistans $R$ pr. lengdeenhet?"
   ]
  },
  {
   "cell_type": "markdown",
   "metadata": {},
   "source": [
    "# Oppgave 2\n",
    "Når det skal installeres strømkabler i et hus, dimensjoneres lederens tverrsnitt/areal ut fra strømstyrken som kabelen skal føre. To vanlige tverrsnitt er $4,0 \\textrm{ mm}^2$ (for strømkurser opptil $16 \\textrm{ A}$) og $16 \\textrm{ mm}^2$ (for strømkurser opptil $63 \\textrm{ A}$). \n",
    "\n",
    "Hva er forholdet mellom resistans per meter for strømledere med tverrsnitt hhv. $A_1=4,0 \\textrm{ mm}^2$  og $A_2=16 \\textrm{ mm}^2$, dersom lederne er laget av samme materiale?"
   ]
  },
  {
   "cell_type": "markdown",
   "metadata": {},
   "source": [
    "\n",
    "## Oppgave 3\n",
    "En krets består av en motstand med resistans $R=1,0 \\textrm{ M}\\Omega$, en kondensator med kapasitans $C=5,0 \\ \\mu \\textrm{F}$, et batteri med ems $\\varepsilon=30 \\textrm{ V}$ og en bryter koblet i serie. Bryteren er i utgangspunktet åpen, og lukkes ved tiden $t=0$. Ladningen på kondensatoren er 0 ved $t=0$.\n",
    "\n",
    "a) Bestem tidskonstanten for kretsen.\n",
    "\n",
    "b) Bestem strømmen gjennom motstanden en tid $t=10 \\textrm{ s}$  etter at bryteren er lukket.\n",
    "\n",
    "c) Hvor lang tid tar det før kondensatoren er oppladet til 80 % av den maksimale ladningen den er i stand til å lagre?\n",
    "\n",
    "\n"
   ]
  },
  {
   "cell_type": "markdown",
   "metadata": {},
   "source": [
    "## Oppgave 4\n",
    "Et batteri med ems $\\varepsilon= 9,0 \\textrm{ V}$ har indre resistans $R_i=1,0 \\ \\Omega$. Batteriet er koblet til en parallelkobling av to motstander med resistans $R_1=220 \\ \\Omega$ og $R_2=330 \\ \\Omega$. Se figuren under.\n",
    "\n",
    "<center><img src=\"figurer/oppgave_krets_indre_ytre_motstand.png\" alt=\"\" style=\"width: 300px;\"/></center>\n",
    "\n",
    "a) Bestem den ekvivalente resistansen i kretsen.\n",
    "\n",
    "b) Bestem strømmen $I$ i kretsen.\n",
    "\n",
    "c) Hva er polspenningen (dvs. spenningen mellom punkt a og b på figuren) når batteriet leverer strøm?\n",
    "\n",
    "d) Bestem den elektriske effekten som produseres i kretsen."
   ]
  }
 ],
 "metadata": {
  "language_info": {
   "name": "python"
  }
 },
 "nbformat": 4,
 "nbformat_minor": 2
}
