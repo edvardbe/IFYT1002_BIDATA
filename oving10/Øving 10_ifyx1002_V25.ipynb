{
 "cells": [
  {
   "cell_type": "markdown",
   "metadata": {},
   "source": [
    "# Øving 10\n",
    "# Oppgave 1\n",
    "Kobber har resistivitet $\\rho_{\\textrm{Cu}}=1,68 \\cdot 10^{-8} \\ \\Omega \\textrm{m}$, mens aluminium har $\\rho_{\\textrm{Al}}=2,65 \\cdot 10^{-8} \\ \\Omega \\textrm{m}$. Vi skal konstruere to kabler, én med kobberleder og én med aluminiumsleder. \n",
    "\n",
    "Hva må forholdet $\\frac{d_{\\textrm{Al}}}{d_{\\textrm{Cu}}}$ mellom diameteren til hhv. aluminiums- og kobberlederen være for at kablene skal ha samme resistans $R$ pr. lengdeenhet?"
   ]
  },
  {
   "cell_type": "markdown",
   "metadata": {},
   "source": [
    "### Løsning 1\n",
    "\n",
    "Setter inn formelen for areal av sirkel $A = 2 \\pi r = d \\pi$ i formelene for resistans ved de ulike materialene, også setter at $R_{Al}$ er lik $R_{Cu}$\n",
    "\n",
    "$$R_{Al} = R_{Cu} \\rightarrow \\rho _{Al} \\frac{L}{d_{Al} \\pi} = \\rho _{Cu} \\frac{L}{d_{Cu} \\pi} $$\n",
    "\n",
    "Forenkler uttrykket og flytter på variabler slik at vi finner forholdet $\\frac{d_{Al}}{d_{Cu}}$\n",
    "\n",
    "$$\\frac{1.68 \\cdot 10^{-8} \\Omega m}{d_{Cu}} = \\frac{2.65 \\cdot 10^{-8} \\Omega m}{d_{Al}} \\rightarrow \\frac{d_{Al}}{d_{Cu}} = \\frac{2.65}{1.68}$$\n",
    "\n"
   ]
  },
  {
   "cell_type": "markdown",
   "metadata": {},
   "source": [
    "# Oppgave 2\n",
    "Når det skal installeres strømkabler i et hus, dimensjoneres lederens tverrsnitt/areal ut fra strømstyrken som kabelen skal føre. To vanlige tverrsnitt er $4,0 \\textrm{ mm}^2$ (for strømkurser opptil $16 \\textrm{ A}$) og $16 \\textrm{ mm}^2$ (for strømkurser opptil $63 \\textrm{ A}$). \n",
    "\n",
    "Hva er forholdet mellom resistans per meter for strømledere med tverrsnitt hhv. $A_1=4,0 \\textrm{ mm}^2$  og $A_2=16 \\textrm{ mm}^2$, dersom lederne er laget av samme materiale?"
   ]
  },
  {
   "cell_type": "markdown",
   "metadata": {},
   "source": [
    "### Løsning 2\n",
    "\n",
    "Forhold mellom resistans per meter\n",
    "\n",
    "$$\\frac{\\frac{R_1}{L}}{\\frac{R_2}{L}}$$\n",
    "\n",
    "Resistans per meter kan også skrives slik\n",
    "\n",
    "$$\\frac{R}{L} = \\frac{\\rho}{A}$$\n",
    "\n",
    "Utleder forholdet med uttrykket for resistans per meter\n",
    "\n",
    "$$\\frac{\\frac{\\rho}{A_1}}{\\frac{\\rho}{A_2}} = \\frac{\\frac{\\rho}{4.0}}{\\frac{\\rho}{16}} = 4$$"
   ]
  },
  {
   "cell_type": "markdown",
   "metadata": {},
   "source": [
    "\n",
    "## Oppgave 3\n",
    "En krets består av en motstand med resistans $R=1,0 \\textrm{ M}\\Omega$, en kondensator med kapasitans $C=5,0 \\ \\mu \\textrm{F}$, et batteri med ems $\\varepsilon=30 \\textrm{ V}$ og en bryter koblet i serie. Bryteren er i utgangspunktet åpen, og lukkes ved tiden $t=0$. Ladningen på kondensatoren er 0 ved $t=0$.\n",
    "\n",
    "a) Bestem tidskonstanten for kretsen.\n",
    "\n",
    "b) Bestem strømmen gjennom motstanden en tid $t=10 \\textrm{ s}$  etter at bryteren er lukket.\n",
    "\n",
    "c) Hvor lang tid tar det før kondensatoren er oppladet til 80 % av den maksimale ladningen den er i stand til å lagre?\n",
    "\n",
    "\n"
   ]
  },
  {
   "cell_type": "markdown",
   "metadata": {},
   "source": [
    "### Løsning 3\n",
    "\n",
    "**a)**\n",
    "\n",
    "Tidskonstanten $\\tau$ uttrykkes slik\n",
    "\n",
    "$$ \\tau = RC = 1.0 M \\Omega \\cdot 5.0 \\mu F = 5.0 s$$ \n",
    "\n",
    "**b)**\n",
    "\n",
    "Strømmen gjennom motsanden 10 s etter at bryteren er lukket kan utledes slik\n",
    "\n",
    "$$I = \\frac{\\varepsilon}{R} e^{-\\frac{t}{\\tau}} = \\frac{30 V}{1.0 M \\Omega} e^{-\\frac{10 s}{5.0 s}} = 4.1 \\mu A$$\n",
    "\n",
    "**c)**\n",
    "\n",
    "Bruker formel for ladning på kondensator under opplading\n",
    "\n",
    "$$q(t_{80\\%}) = C \\varepsilon (1 - e^{-\\frac{t}{\\tau}}) = 0.8 \\cdot C \\varepsilon$$\n",
    "\n",
    "Flytter variabler slik at en det eksponentielle leddet står alene\n",
    "\n",
    "$$e^{-\\frac{t}{\\tau}} = 1 -\\frac{q(t_{80\\%})}{C \\varepsilon}$$\n",
    "\n",
    "Tar naturlig logaritme på begge sider og forenkler utrykket slik at tiden $t$ står alene, og løser så for den\n",
    "\n",
    "$$t= -\\tau log(1 -\\frac{q(t_{80\\%})}{C \\varepsilon}) = -5.0 s \\space log(1 - 0.8) = 8.0 s$$\n",
    "\n"
   ]
  },
  {
   "cell_type": "markdown",
   "metadata": {},
   "source": [
    "## Oppgave 4\n",
    "Et batteri med ems $\\varepsilon= 9,0 \\textrm{ V}$ har indre resistans $R_i=1,0 \\ \\Omega$. Batteriet er koblet til en parallelkobling av to motstander med resistans $R_1=220 \\ \\Omega$ og $R_2=330 \\ \\Omega$. Se figuren under.\n",
    "\n",
    "<center><img src=\"figurer/oppgave_krets_indre_ytre_motstand.png\" alt=\"\" style=\"width: 300px;\"/></center>\n",
    "\n",
    "a) Bestem den ekvivalente resistansen i kretsen.\n",
    "\n",
    "b) Bestem strømmen $I$ i kretsen.\n",
    "\n",
    "c) Hva er polspenningen (dvs. spenningen mellom punkt a og b på figuren) når batteriet leverer strøm?\n",
    "\n",
    "d) Bestem den elektriske effekten som produseres i kretsen."
   ]
  }
 ],
 "metadata": {
  "language_info": {
   "name": "python"
  }
 },
 "nbformat": 4,
 "nbformat_minor": 2
}
