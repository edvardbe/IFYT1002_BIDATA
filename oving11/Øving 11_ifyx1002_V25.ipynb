{
 "cells": [
  {
   "cell_type": "markdown",
   "metadata": {},
   "source": [
    "# Øving 11\n",
    "## Oppgave 1\n",
    "I partikkelakseleratoren LHC (Large Hadron Collider) ved CERN i Sveits brukes superledende magneter til å føre protoner med masse $m=1,67 \\cdot 10^{-27} \\textrm{ kg}$ og ladning  $+e=1,60 \\cdot 10^{-19} \\textrm{ C}$ i en sirkelbane med radius $R=4,3 \\textrm{ km}$. Protonene har en hastighet på  $m=3,0 \\cdot 10^{7} \\textrm{ m/s}$, og magnetfeltet står vinkelrett på protonenes hastighetsretning. Se figuren under.\n",
    "\n",
    "<center><img src=\"figurer/oppgave_ladd_partikkel_magnetfelt.png\" alt=\"\" style=\"width: 300px;\"/></center>\n",
    "\n",
    "Hvor stor må den magnetiske feltstyrken $B$ være for å holde protonene i sirkelbanen?"
   ]
  },
  {
   "cell_type": "markdown",
   "metadata": {},
   "source": [
    "## Oppgave 2\n",
    "Figuren under viser et forenklet prinsipp for en likestrømsmotor: En rektangulær strømsløyfe som fører en strøm $I$, er plassert i et konstant, homogent magnetfelt $\\vec{B}$. Sløyfa kan rotere friksjonsfritt om midtpunktet, og har et visst treghetsmoment om rotasjonsaksen, som står normalt på magnetfeltet. Figuren under viser situasjonen ved $t=0$, der sløyfas plan er parallelt med magnetfeltet:\n",
    "\n",
    "<center><img src=\"figurer/oppgave_likestrømsmotor.png\" alt=\"\" style=\"width: 500px;\"/></center>\n",
    "\n",
    "La $\\phi$ angi vinkelen mellom strømsløyfas normalvektor, og $\\vec{B}$.\n",
    "\n",
    "a) For hvilke verdier av $\\phi$ i intervallet $[0,2\\pi]$ er absoluttverdien av dreiemomentet på strømsløyfa **størst**?\n",
    "\n",
    "<div style=\"page-break-after: always\"></div>\n",
    "\n",
    "b) Hvilken påstand om sløyfas rotasjon er riktig?\n",
    "\n",
    "A. Sløyfa vil rotere med variabel vinkelakselerasjon\n",
    "\n",
    "B. Sløyfa vil rotere med konstant vinkelfart\n",
    "\n",
    "C. Sløyfa vil rotere med jevnt avtakende vinkelfart\n",
    "\n",
    "D. Sløyfa vil rotere med jevnt økende vinkelfart\n",
    "\n",
    "E. Sløyfa vil rotere med jevnt økende vinkelakselerasjon\n",
    "\n",
    "c) Etter hvert som motoren blir varm, svekkes magnetfeltet. Hvor mye reduseres det maksimale dreiemomentet på sløyfa dersom $B$ avtar 5,0 %, dersom alle andre størrelser er uendret?"
   ]
  },
  {
   "cell_type": "markdown",
   "metadata": {},
   "source": [
    "## Oppgave 3\n",
    "En innretning for å frakte last opp et skråplan består av en metallplate som sklir uten friksjon over to parallelle metallskinner. Avstanden mellom skinnene er $l=2,0 \\textrm{ m}$, og innretningen befinner seg i et homogent ytre magnetfelt $\\vec{B}$ som har retning normalt på skråplanet og verdi $B=0,10 \\textrm{ T}$.  Skråplanet danner en vinkel $\\theta=30^{\\circ}$ med horisontalen. Det går en strøm $I$ gjennom skinnene og metallplata med retning som vist på figuren under (vist i ).\n",
    "\n",
    "<center><img src=\"figurer/oppgave_skinner_skråplan.png\" alt=\"\" style=\"width: 400px;\"/></center>\n",
    "\n",
    "Hvor stor strøm $I$ må gå i kretsen for å kunne frakte en last på 100 kg (dette inkluderer vekta til metallplata) oppover skråplanet med konstant fart?\n"
   ]
  },
  {
   "cell_type": "markdown",
   "metadata": {},
   "source": [
    "## Oppgave 4\n",
    "Konseptet \"rail gun\" (\"skinne-skyter\") har blitt foreslått som en billig og naturvennlig metode for å sende last opp i verdensrommet. En forenklet modell av en slik er en metallstang med masse $m$ og lengde $l$ som kan gli friksjonsfritt langs horisontale, parallelle metallskinner der det går en strøm $I$. Et ytre magnetfelt med feltstyrke $B$ står vinkelrett på skinnene/stanga. Se figuren under.\n",
    "\n",
    "<center><img src=\"figurer/oppgave_railgun.png\" alt=\"\" style=\"width: 400px;\"/></center>\n",
    "\n",
    "Vi neglisjerer luftmotstand, og strømmen gjennom stanga kan antas konstant. Oppgaven omhandler utelukkende den horisontale bevegelsen av stanga (dvs. vi tar ikke hensyn til tyngdekraften).\n",
    "\n",
    "a)\tHva blir akselerasjonen til stanga, uttrykt ved oppgitte størrelser?\n",
    "\n",
    "b)\tGitt følgende optimistiske verdier: $B = 1,0 \\textrm{ T}, \\ I = 1000 \\textrm{ A}, \\ l = 1,0 \\textrm{ m}, m = 50 \\textrm{ kg}$ (inkludert last). Hvor langt må stanga akselereres for å oppnå en horisontal hastighet lik Jordas unnslippingsfart på $11,2 \\textrm{ km/s}$? (Her kan man plassere ei rampe slik at stanga slynges loddrett oppover.)\n",
    "\n",
    "\n",
    "\n"
   ]
  }
 ],
 "metadata": {
  "language_info": {
   "name": "python"
  }
 },
 "nbformat": 4,
 "nbformat_minor": 2
}
