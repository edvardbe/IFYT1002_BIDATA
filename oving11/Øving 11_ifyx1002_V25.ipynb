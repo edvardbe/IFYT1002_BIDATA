{
 "cells": [
  {
   "cell_type": "markdown",
   "metadata": {},
   "source": [
    "# Øving 11\n",
    "## Oppgave 1\n",
    "I partikkelakseleratoren LHC (Large Hadron Collider) ved CERN i Sveits brukes superledende magneter til å føre protoner med masse $m=1,67 \\cdot 10^{-27} \\textrm{ kg}$ og ladning  $+e=1,60 \\cdot 10^{-19} \\textrm{ C}$ i en sirkelbane med radius $R=4,3 \\textrm{ km}$. Protonene har en hastighet på  $v = 3,0 \\cdot 10^{7} \\textrm{ m/s}$, og magnetfeltet står vinkelrett på protonenes hastighetsretning. Se figuren under.\n",
    "\n",
    "<center><img src=\"figurer/oppgave_ladd_partikkel_magnetfelt.png\" alt=\"\" style=\"width: 300px;\"/></center>\n",
    "\n",
    "Hvor stor må den magnetiske feltstyrken $B$ være for å holde protonene i sirkelbanen?"
   ]
  },
  {
   "cell_type": "markdown",
   "metadata": {},
   "source": [
    "### Løsning 1\n",
    "\n",
    "\n",
    "$$\\Sigma F = |q| v B sin(90 \\degree)= m a = m \\cdot \\frac{v^2}{R}$$\n",
    "\n",
    "Gjør om slik at vi løser for feltstyrken $B$\n",
    "\n",
    "$$B = m \\cdot \\frac{v}{R q} = 1.67 \\cdot 10^{-27} kg \\cdot \\frac{3.0 \\cdot 10^{7} m/s}{4.3 \\cdot 10^3 m \\cdot 1.60 \\cdot 10^{-19} C} \\approx 73 \\mu T$$\n"
   ]
  },
  {
   "cell_type": "markdown",
   "metadata": {},
   "source": [
    "## Oppgave 2\n",
    "Figuren under viser et forenklet prinsipp for en likestrømsmotor: En rektangulær strømsløyfe som fører en strøm $I$, er plassert i et konstant, homogent magnetfelt $\\vec{B}$. Sløyfa kan rotere friksjonsfritt om midtpunktet, og har et visst treghetsmoment om rotasjonsaksen, som står normalt på magnetfeltet. Figuren under viser situasjonen ved $t=0$, der sløyfas plan er parallelt med magnetfeltet:\n",
    "\n",
    "<center><img src=\"figurer/oppgave_likestrømsmotor.png\" alt=\"\" style=\"width: 500px;\"/></center>\n",
    "\n",
    "La $\\phi$ angi vinkelen mellom strømsløyfas normalvektor, og $\\vec{B}$.\n",
    "\n",
    "a) For hvilke verdier av $\\phi$ i intervallet $[0,2\\pi]$ er absoluttverdien av dreiemomentet på strømsløyfa **størst**?\n",
    "\n",
    "<div style=\"page-break-after: always\"></div>\n",
    "\n",
    "b) Hvilken påstand om sløyfas rotasjon er riktig?\n",
    "\n",
    "A. Sløyfa vil rotere med variabel vinkelakselerasjon\n",
    "\n",
    "B. Sløyfa vil rotere med konstant vinkelfart\n",
    "\n",
    "C. Sløyfa vil rotere med jevnt avtakende vinkelfart\n",
    "\n",
    "D. Sløyfa vil rotere med jevnt økende vinkelfart\n",
    "\n",
    "E. Sløyfa vil rotere med jevnt økende vinkelakselerasjon\n",
    "\n",
    "c) Etter hvert som motoren blir varm, svekkes magnetfeltet. Hvor mye reduseres det maksimale dreiemomentet på sløyfa dersom $B$ avtar 5,0 %, dersom alle andre størrelser er uendret?"
   ]
  },
  {
   "cell_type": "markdown",
   "metadata": {},
   "source": [
    "### Løsning 2\n",
    "\n",
    "**a)**\n",
    "Formelen er dreiemomentet $\\tau$ uttrykkes slik\n",
    "$$\\tau = I \\cdot A \\cdot B \\cdot \\sin \\phi$$\n",
    "\n",
    "Her ser vi at dreiemomentet er et produkt av faktoren $\\sin \\phi$ og vi vet at absoluttverdien av sinus av en vinkel er størst ved $\\phi = \\frac{\\pi}{2}$ og $\\phi = \\frac{3 \\pi}{2}$ der $\\sin \\frac{\\pi}{2} = 1$ og $\\sin \\frac{3 \\pi}{2} = -1$\n",
    "\n",
    "**b)**\n",
    "\n",
    "**A** - Ettersom strømsløyfen har ikke har en kommutator, som endrer retningen på strømmen I ved $\\phi = 90 \\degree$ vil akselerasjonen variere. Rotasjonen akselerere fram til $\\phi = 90 \\degree$ så akselerere motsatt retning når sløyfen roterer forbi denne vinkelen. og pendle fram til $\\phi = 90 \\degree$ med varierende akselerasjon.\n",
    "\n",
    "**c)**\n",
    "\n",
    "Det maksimale dreiemomentet $\\tau _{max}$ reduseres også med $5.0\\%$ dersom $B$ reduseres med $5.0\\%$"
   ]
  },
  {
   "cell_type": "markdown",
   "metadata": {},
   "source": [
    "## Oppgave 3\n",
    "En innretning for å frakte last opp et skråplan består av en metallplate som sklir uten friksjon over to parallelle metallskinner. Avstanden mellom skinnene er $l=2,0 \\textrm{ m}$, og innretningen befinner seg i et homogent ytre magnetfelt $\\vec{B}$ som har retning normalt på skråplanet og verdi $B=0,10 \\textrm{ T}$.  Skråplanet danner en vinkel $\\theta=30^{\\circ}$ med horisontalen. Det går en strøm $I$ gjennom skinnene og metallplata med retning som vist på figuren under (vist i ).\n",
    "\n",
    "<center><img src=\"figurer/oppgave_skinner_skråplan.png\" alt=\"\" style=\"width: 400px;\"/></center>\n",
    "\n",
    "Hvor stor strøm $I$ må gå i kretsen for å kunne frakte en last på 100 kg (dette inkluderer vekta til metallplata) oppover skråplanet med konstant fart?\n"
   ]
  },
  {
   "cell_type": "markdown",
   "metadata": {},
   "source": [
    "### Løsning 3\n",
    "\n",
    "$$\\Sigma F = F_{m} - G_x > 0 \\rightarrow F_m > G_x$$\n",
    "\n",
    "der $F_m$ er den magnetiske kraften og $G$ er gravitasjonskraften. For å finne gravitasjonskraften langs metalplatens bevegelses retning kan vi bruke følgende formel.\n",
    "\n",
    "$$G_x = G \\cdot \\sin{\\theta} = 9.81 m/s^2 \\cdot 100 kg \\cdot \\sin{30 \\degree} = 490.5 N$$\n",
    "\n",
    "dette betyr at vi kan utlede strømmen $I$ ved å gjøre om på formelen $F_m > 490.5N$\n",
    "\n",
    "$$I > \\frac{F}{l B \\sin{\\phi}} = \\frac{490.5 N}{2.0 m \\cdot 0.10 T \\cdot \\sin{90 \\degree}} = 2.5 kA$$\n",
    "\n",
    "Dermed må strømmen $I$ være større enn $2.5 kA$"
   ]
  },
  {
   "cell_type": "markdown",
   "metadata": {},
   "source": [
    "## Oppgave 4\n",
    "Konseptet \"rail gun\" (\"skinne-skyter\") har blitt foreslått som en billig og naturvennlig metode for å sende last opp i verdensrommet. En forenklet modell av en slik er en metallstang med masse $m$ og lengde $l$ som kan gli friksjonsfritt langs horisontale, parallelle metallskinner der det går en strøm $I$. Et ytre magnetfelt med feltstyrke $B$ står vinkelrett på skinnene/stanga. Se figuren under.\n",
    "\n",
    "<center><img src=\"figurer/oppgave_railgun.png\" alt=\"\" style=\"width: 400px;\"/></center>\n",
    "\n",
    "Vi neglisjerer luftmotstand, og strømmen gjennom stanga kan antas konstant. Oppgaven omhandler utelukkende den horisontale bevegelsen av stanga (dvs. vi tar ikke hensyn til tyngdekraften).\n",
    "\n",
    "a)\tHva blir akselerasjonen til stanga, uttrykt ved oppgitte størrelser?\n",
    "\n",
    "b)\tGitt følgende optimistiske verdier: $B = 1,0 \\textrm{ T}, \\ I = 1000 \\textrm{ A}, \\ l = 1,0 \\textrm{ m}, m = 50 \\textrm{ kg}$ (inkludert last). Hvor langt må stanga akselereres for å oppnå en horisontal hastighet lik Jordas unnslippingsfart på $11,2 \\textrm{ km/s}$? (Her kan man plassere ei rampe slik at stanga slynges loddrett oppover.)\n",
    "\n",
    "\n",
    "\n"
   ]
  },
  {
   "cell_type": "markdown",
   "metadata": {},
   "source": [
    "### Løsning 4\n",
    "\n",
    "**a)**\n",
    "\n",
    "Ettersom det magnetiske feltet $B$ er vinkelrett på skinnene kan magnetkrafta utrykkes slik\n",
    "\n",
    "$$F_{m} = I l B$$\n",
    "\n",
    "og vi kan da utlede akselerasjonen\n",
    "\n",
    "$$\\Sigma F = F_m = m \\cdot a \\rightarrow a = \\frac{I l B}{m}$$\n",
    "\n",
    "**b)**\n",
    "\n",
    "Først finner vi akselerasjonen med uttrykket vi fant i forrige oppgave.\n",
    "\n",
    "$$a = \\frac{I l B}{m} = \\frac{1000 A \\cdot 1.0 m \\cdot 1.0 T}{50 kg} = 20 m/s^2$$\n",
    "\n",
    "Så bruker vi bevegelseslikningen som uten en faktor av tid til å finne lengden\n",
    "\n",
    "$$v^2 - v_0^2 = 2 a x$$\n",
    "\n",
    "ettersom $v_0 = 0$ kan vi skrive om formelen og løse for $x$\n",
    "\n",
    "$$x = \\frac{v^2}{2a} = \\frac{(11.2 \\cdot 10^3 m/s)^2}{2 20 m/s^2} = 3.1 \\cdot 10^6 m$$ \n",
    "\n",
    "\n"
   ]
  }
 ],
 "metadata": {
  "language_info": {
   "name": "python"
  }
 },
 "nbformat": 4,
 "nbformat_minor": 2
}
