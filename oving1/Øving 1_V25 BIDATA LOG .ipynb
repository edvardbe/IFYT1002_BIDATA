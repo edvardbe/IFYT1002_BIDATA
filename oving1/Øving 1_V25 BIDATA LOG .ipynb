{
 "cells": [
  {
   "cell_type": "markdown",
   "metadata": {},
   "source": [
    "# Øving 1   (pilot )"
   ]
  },
  {
   "cell_type": "markdown",
   "metadata": {},
   "source": [
    "## Oppgave 1\n",
    "a) Hvor mange $\\text{ m/s}^2$  tilsvarer en akselerasjon på  $1\\text{ km/h}^2$ ?\n",
    "\n",
    "    \n",
    "b) En bestemt elbil oppgis å ha et energiforbruk ved blandet kjøring på $1 \\textrm{ kWh/mil}$. Hva tilsvarer dette i joule per meter; $\\textrm{J/m}$?\n",
    "\n",
    "\n",
    "\n",
    "Oppgitt: $1 \\textrm{ kWh}=3,6 \\cdot 10^6 \\textrm{ J}$, $1 \\textrm{ mil}=10 \\textrm{ km}$."
   ]
  },
  {
   "cell_type": "markdown",
   "metadata": {},
   "source": [
    "&nbsp;&nbsp;&nbsp;&nbsp;**a)** $1 km = 1000 m$ og $1 h = 60 \\cdot 60 s = 3600s$, dermed får vi $\\frac{1000}{3600^2} m/s^2 = 8 * 10^{-5} m/s^2$\\\n",
    "\\\n",
    "&nbsp;&nbsp;&nbsp;&nbsp;**b)** $\\frac{3.6 \\cdot 10^6}{10 \\cdot 1000} \\space J/m = 3.6 \\cdot 10^2 \\space J/m = 0.36kJ/m$"
   ]
  },
  {
   "attachments": {},
   "cell_type": "markdown",
   "metadata": {},
   "source": [
    "## Oppgave 2\n",
    "En bil som kjører i $30 \\text{ km/h}$ bremses opp og stopper etter $30 \\text{ m}$. Bilens akselerasjon er konstant på stoppestrekningen. \n",
    "\n",
    "a) Hvor stor er akselerasjonen under oppbremsingen?\n",
    "\n",
    "b) Hvor lang tid tar det før bilen stanser?\n",
    "\n",
    "Bilen bremses så opp fra dobbelt så stor hastighet, $60 \\text{ km/h}$. Anta samme akselerasjon som funnet i a). \n",
    "\n",
    "c) Hvor lang er bremsestrekningen og bremsetiden nå i forhold til oppbremsingen i a)?"
   ]
  },
  {
   "cell_type": "markdown",
   "metadata": {},
   "source": [
    "**a)**\n",
    "$30km/h=8.33m/s, \\space v^2-v_0^2 = 2as \\rightarrow \\frac{0^2-8.33^2}{2*30}=a, a=-1.15$\n",
    "\n",
    "**b)**\n",
    "$s=v_0t\\cdot+1/2at^2 \\rightarrow 30=8.33 \\cdot t + 1/2 \\cdot -1.15 t^2$\n",
    "$v = v_0 + at, 0 = 8.33 + -1.15*t => t = -8.33/-1.15 = $\n",
    "\n",
    "**c)**\n",
    "$60km/h=16.67m/s, \\space v^2-v_0^2 = 2as \\rightarrow \\frac{0^2-16.67^2}{2*-1.15}=s, s=$\n",
    "\n"
   ]
  },
  {
   "attachments": {},
   "cell_type": "markdown",
   "metadata": {},
   "source": [
    "## Oppgave 3\n",
    "En fartssynder i en personbil passerer en politibil, som står parkert i veikanten, i $100 \\text{ km/h}$ og fortsetter med konstant hastighet. Etter $2,0 \\text{ s}$ tar politibilen opp jakten på personbilen med konstant akselerasjon. \n",
    "\n",
    "a) Skisser posisjon-tid-grafen for politibilen og personbilen dersom $x=0$ er politibilens startpunkt, og $t=0$ er tidspunktet der politibilen starter jakten.\n",
    "\n",
    "b) Hva må politibilens akselerasjon være for å ta igjen personbilen $1,0 \\text{ km}$ etter passeringspunktet?\n",
    "\n",
    "c) Hva er politibilens sluttfart idet den tar igjen personbilen?"
   ]
  },
  {
   "cell_type": "markdown",
   "metadata": {},
   "source": [
    "**a)**\n",
    "\n",
    "<img src=\"Screenshot 2025-01-10 at 15.24.07.png\" alt=\"Geogebra\" width=\"200\" height=\"200\"/>\n",
    "\n",
    "\\\n",
    "**b)**\n",
    "$v = 100km/h = 100 \\cdot \\frac{1}{3.6} = 27.8 m/s$\n",
    "$s = 1.0 km = 1000m$\n",
    "\n",
    "$t = \\frac{s}{v} s= \\frac{1000}{27.8} , s= 36.0 s$\n",
    "\n",
    "\n",
    "$v_0 = 0, v_1 = ?$\n",
    "\\\n",
    "$s = v_0t + \\frac{1}{2}at^2$\n",
    "\n",
    "$1000 = 0 \\cdot (36-2) + \\frac{1}{2} \\cdot a \\cdot (36-2)^2$\n",
    "\\\n",
    "$a = \\frac{2000}{34^2}=$\n",
    "\n",
    "\n",
    "\\\n",
    "**c)**\n",
    "\n",
    "$v=v_0 + at$\n",
    "$v = 0 + 1.7*34 = 58m/s = (58m/s*3.6)km/h=208.8km/h=2.1 \\cdot 10^2 km/h$\n",
    "\n",
    "\n"
   ]
  },
  {
   "cell_type": "markdown",
   "metadata": {},
   "source": []
  },
  {
   "cell_type": "markdown",
   "metadata": {},
   "source": [
    "<img src=\"Screenshot 2025-01-10 at 15.36.41.png\" alt=\"\" style=\"width: 500px;\"/>"
   ]
  },
  {
   "attachments": {},
   "cell_type": "markdown",
   "metadata": {},
   "source": [
    "## Oppgave 4\n",
    "\n",
    "\n",
    "Grafen ovenfor oppgir akselerasjonen $a(t)$ til et tog som kjører mellom to stasjoner. Toget begynner å kjøre fra ro ved $t=0$ og beveger seg deretter rettlinjet til det stanser ved neste stasjon. \n",
    "\n",
    "Hvilke av følgende påstander om bevegelsen er riktige?\n",
    "\n",
    "A. Hastigheten er størst ved $t_1$.\n",
    "\n",
    "B. Hastigheten er størst ved $t_2$.\n",
    "\n",
    "C. Hastigheten er størst i tidsrommet $[t_3,t_4]$. **X**\n",
    "\n",
    "D. Toget begynner å bremse ved $t_2$.\n",
    "\n",
    "E. Toget begynner å bremse ved $t_3$.\n",
    "\n",
    "F. Toget begynner å bremse ved $t_4$. **X**\n",
    "\n",
    "G. Arealet under grafen mellom $t_1$ og $t_2$ gir tilbakelagt strekning i dette tidsrommet.\n",
    "\n",
    "H. Arealet under grafen mellom $t_1$ og $t_2$ gir hastighetsendringen i dette tidsrommet. **X**\n",
    "\n",
    "I. Stigningstallet til grafen i et punkt gir togets hastighet på dette tidspunktet."
   ]
  },
  {
   "cell_type": "markdown",
   "metadata": {},
   "source": [
    "## Oppgave  5\n",
    "\n",
    "“… there simply is no physics without measurements. And just as important, there are no meaningful measurements without their uncertainties.”  </br> <small>W. Levin, For the love of physics s. 22</small>\n",
    "\n",
    "Installer Phyphox (https://phyphox.org/) på mobiltelefonen. Hensikten med første øving er å få til en måling av en størrelse som du måler flere ganger.\n",
    "\n",
    "Mål trykket på fem forskjellige steder i rommet. Pass på å måle høyt og lavt i rommet. (Hvis du ikke har trykkmåler, bruk en måling som du vil se varierer, som vinkelen på et bord dersom du flytter telefonen.)  Du skal nå ha fem målinger.\n",
    "\n",
    "Hensikt: Få installert phyphox applikasjon på din telefon. Få et forhold til målte tall. Få en forståelse for signifikante siffer og målte tallverdier.\n",
    "\n",
    "\n",
    "For å gjøre denne oppgaven trenger du å kunne kjøre jupyter filer. DU kan installere støtte for jupyter notebook i editoren vscode.  Informasjon om hvordan du får lagt inn jupyter i vscode finner du her (https://www.youtube.com/watch?v=suAkMeWJ1yE) \n"
   ]
  },
  {
   "cell_type": "code",
   "execution_count": 4,
   "metadata": {},
   "outputs": [
    {
     "name": "stdout",
     "output_type": "stream",
     "text": [
      "23.3218\n",
      "1.477469647742383\n"
     ]
    }
   ],
   "source": [
    "import numpy as np\n",
    "\n",
    "# Forsøk på å gjette når det har gått 20 sekunder\n",
    "\n",
    "trykk=[25.123, 22.501, 23.318, 21.028, 24.639]\n",
    "middelverdi=np.mean(trykk) # Regner ut middelverdien av målingene\n",
    "standardavvik=np.std(trykk) # Regner ut standardavviket av målingene\n",
    "print(middelverdi)\n",
    "print(standardavvik)"
   ]
  },
  {
   "cell_type": "markdown",
   "metadata": {},
   "source": [
    "Hvis du skal oppgi et tall som representativ for målingen. Hva er riktig måte å oppgi dette tallet på? ( Hvis du ikke kjenner til f-strenger og formatering kan du finne det du trenger her https://realpython.com/how-to-python-f-string-format-float/. Legg spesielt merke til at vi kan bruke f{middelverdi:.2g} for å presisere 2 signifikante siffer. I eksemplet under er det gitt 8 signifikante siffer som er helt feil.) \n",
    "\n",
    "<font color='red'><b>Korriger med dine målinger og angi riktig antall signifikante siffer.</bold></font>"
   ]
  },
  {
   "cell_type": "code",
   "execution_count": 5,
   "metadata": {},
   "outputs": [
    {
     "name": "stdout",
     "output_type": "stream",
     "text": [
      "Målt verdi 23.322\n"
     ]
    }
   ],
   "source": [
    "print(f'Målt verdi {middelverdi:.5g}')"
   ]
  },
  {
   "cell_type": "markdown",
   "metadata": {},
   "source": []
  }
 ],
 "metadata": {
  "kernelspec": {
   "display_name": "Python 3",
   "language": "python",
   "name": "python3"
  },
  "language_info": {
   "codemirror_mode": {
    "name": "ipython",
    "version": 3
   },
   "file_extension": ".py",
   "mimetype": "text/x-python",
   "name": "python",
   "nbconvert_exporter": "python",
   "pygments_lexer": "ipython3",
   "version": "3.12.6"
  }
 },
 "nbformat": 4,
 "nbformat_minor": 2
}
