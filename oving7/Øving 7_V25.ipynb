{
 "cells": [
  {
   "attachments": {},
   "cell_type": "markdown",
   "metadata": {},
   "source": [
    "# Øving 7\n",
    "## Oppgave 1\n",
    "a) Vi skal gjøre et overslag over treghetsmomentet til et menneske om en vertikal akse gjennom personens symmetrilinje, når personen står med armene rett ned og tett inntil kroppen. Vi bruker den primitive modellen for menneskekroppen, der massen til de ulike kroppsdelene angis som prosentandelen av personens totale masse $m$, som vist i figuren under (alle kroppsdelene antas å ha konstant massetetthet):\n",
    "\n",
    "<center><img src=\"figurer/menneskekropp.png\" alt=\"\" style=\"height: 300px;\"/></center>\n",
    "\n",
    "1. 5 %: Kuleformet hode med radius $r$\n",
    "2. 55 % sylinderformet overkropp med radius $2r$ \n",
    "3. 5 % hver: Arm formet som tynn stang, i avstand $2r$ fra aksen\n",
    "4. 15 % hver: Bein formet som massiv sylinder med radius $2r/3$, senterlinje i avstand $r$ fra aksen\n",
    "\n",
    "Hvorfor blir treghetsmomentet om den angitte aksen uavhengig av lengden til armene og beina?\n",
    "\n",
    "b) Bestem treghetsmomentet til en person om den angitte aksen, som funksjon av personens totale masse $m$ og hodets radius $r$.\n",
    "\n",
    "c) Hva blir treghetsmomentet for en person med masse $70 \\textrm{ kg}$ og hodeomkrets $60 \\textrm{ cm}$? \n",
    "\n",
    "\n"
   ]
  },
  {
   "attachments": {},
   "cell_type": "markdown",
   "metadata": {},
   "source": [
    "## Oppgave 2\n",
    "En primitiv jo-jo består av en tråd tvunnet rundt en massiv skive/sylinder med masse $M$ og radius $R$. Tråden holdes i ro i den ene enden, og når sylinderen slippes, løper tråden av sylinderen uten å gli. Vi ser bort fra massen til tråden, og neglisjerer luftmotstand.\n",
    "\n",
    "<center><img src=\"figurer/jo-jo.png\" alt=\"\" style=\"height: 200px;\"/></center>\n",
    "\n",
    "a) Tegn kreftene som virker på sylinderen når den faller nedover.\n",
    "\n",
    "b) Bestem akselerasjonen til sylinderen når den faller. [Hint: Kombiner Newtons 2. lov for rotasjon om massesenteret med Newtons 2. lov for massesenterets bevegelse.]\n",
    "\n",
    "c) Bestem draget i snora under fallet."
   ]
  },
  {
   "attachments": {},
   "cell_type": "markdown",
   "metadata": {},
   "source": [
    "## Oppgave 3\n",
    "En snøball ruller uten å gli nedover en snøkledd skråning med konstant helning, slik at snøballen blir større og større. Snøballen kan modelleres som en homogen kule med konstant massetetthet, der kulas radius $R$ varierer med tiden: $R=R(t)$.\n",
    "\n",
    "Snøballen starter å rulle ved $t=0$, og har da en startradius $R_0$. Luftmotstanden på snøballen kan neglisjeres. Se figuren under.\n",
    "\n",
    "<center><img src=\"figurer/oppgave_snøball.png\" alt=\"\" style=\"height: 300px;\"/></center>\n",
    "\n",
    "Hvilken påstand om snøballens (lineære) akselerasjon etter hvert som den ruller nedover skråningen er riktig?\n",
    "\n",
    "A. Akselerasjonen avtar\n",
    "\n",
    "B. Akselerasjonen øker\n",
    "\n",
    "C. Akselerasjonen er konstant\n",
    "\n",
    "D. Hvorvidt akselerasjonen øker, avtar eller er konstant, avhenger av modellen, dvs. uttrykket for $R(t)$\n",
    "\n",
    "E. Akselerasjonen øker lineært, uavhengig av uttrykket for $R(t)$"
   ]
  },
  {
   "attachments": {},
   "cell_type": "markdown",
   "metadata": {},
   "source": [
    "## Oppgave 4\n",
    "En massiv kule med masse $m$ og radius $r$ ruller uten å gli nedover et underlag og kommer inn i en sirkulær loop med radius $R$. Kula starter en høyde $h=3R$ over det laveste punktet i loopen. Se figuren under.\n",
    "\n",
    "<center><img src=\"figurer/oppgave_sirkelbevegelse_kule_loop.png\" alt=\"\" style=\"height: 300px;\"/></center>\n",
    "\n",
    "Kulas radius $r \\ll R$, slik at kula kan behandles som en punktmasse når det gjelder høydeforskjeller og potensiell energi - vi må imidlertid ta hensyn til at kula ruller. Vi ser bort fra luftmotstand.\n",
    "\n",
    "a) Hva er kulas fart i det laveste punkt i loopen?\n",
    "\n",
    "b) Hva er normalkrafta $N$ på kula i det laveste punktet i loopen, uttrykt ved kulas tyngde $G$?\n",
    "\n",
    "c) Hva er den minste starthøyden $h_{\\text{min}}$ kula kan slippes med null startfart fra hvis den skal fullføre en hel runde i loopen, uten å miste kontakten med underlaget? [Hint: Det kan være nyttig å se tilbake på en liknende problemstilling på øving 4.]"
   ]
  }
 ],
 "metadata": {
  "kernelspec": {
   "display_name": "Python 3",
   "language": "python",
   "name": "python3"
  },
  "language_info": {
   "codemirror_mode": {
    "name": "ipython",
    "version": 3
   },
   "file_extension": ".py",
   "mimetype": "text/x-python",
   "name": "python",
   "nbconvert_exporter": "python",
   "pygments_lexer": "ipython3",
   "version": "3.8.5"
  },
  "vscode": {
   "interpreter": {
    "hash": "551ea7ae10b114133e2fbac23ef1e8e3e30b0e580eb9fe1d9fc046518af6d1fa"
   }
  }
 },
 "nbformat": 4,
 "nbformat_minor": 2
}
