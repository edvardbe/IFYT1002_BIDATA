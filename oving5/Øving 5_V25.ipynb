{
 "cells": [
  {
   "attachments": {},
   "cell_type": "markdown",
   "metadata": {},
   "source": [
    "<!-- python -m jupyter nbconvert --to html '.\\Øving 5_V25.ipynb' -->\n",
    "# Øving 5\n",
    "## Oppgave 1\n",
    "Et gevær med masse $M = 2,0 \\textrm{ kg}$ ligger på et horisontalt underlag idet en kule med masse $m=10 \\textrm{ g}$ skytes ut av løpet med en fart på $v_0=700 \\textrm{ m/s}$. Se figuren under.\n",
    "\n",
    "<center><img src=\"figurer/gevær_kule.png\" alt=\"\" style=\"width: 400px;\"/></center>\n",
    "\n",
    "a) Hvor stor fart får geværet i motsatt retning (\"rekylfarten\") i det kula har forlatt løpet?\n",
    "\n",
    "b) Like etter at kula har forlatt løpet, treffer den en betongvegg og spretter tilbake i motsatt retning (\"rikosjett) med uendret fart. Hva er krafta fra veggen på kula, dersom krafta antas konstant, og kontakttiden mellom kula og veggen er $\\tau = 10 \\textrm{ ms}$?\n",
    "\n",
    "c) En mer realistisk modell for en slik \"kortvarig\" kraft fra veggen på kula med \"varighet\" $\\tau$ gitt slik: $$F(t)=F_{\\text{max}} \\cdot e^{-\\left(\\frac{t}{\\tau} \\right)^2},$$ der $F_{\\text{max}}$ er maksimalverdien av krafta fra veggen.\n",
    "\n",
    "Beregn maksimalverdien $F_{\\textrm{max}}$ av krafta dersom $\\tau=10 \\textrm{ ms}$ og kula spretter rett tilbake med uendret fart, slik som i oppgave b). [Hint: Impulsloven gir at $\\int_{-\\infty}^{\\infty} F(t) dt= \\Delta p$. Du kan få bruk for standardintegralet $\\int_{-\\infty}^{\\infty} e^{-ax^2} dx=\\sqrt{\\frac{\\pi}{a}}$.]\n"
   ]
  },
  {
   "cell_type": "markdown",
   "metadata": {},
   "source": [
    "### Løsning\n",
    "\n",
    "**a)**\n",
    "\\\n",
    "$p_{kule} = m \\cdot v_0 = 0.010 kg \\cdot 700 m/s = 7 N s$\n",
    "\\\n",
    "$p_{gevær} = -p_{kule} = M \\cdot v = 7 N s \\rightarrow v = \\frac{-p_{kule}}{M} = \\frac{-7 N s}{2.0 kg} = -3.5 m/s$\n",
    "\\\n",
    "\\\n",
    "**b)**\n",
    "\\\n",
    "$p_{før} = 7 N s$ og $p_{etter} = -7 N s \\rightarrow \\Delta p = p_{etter} - p_{før} = -7 N s - 7 N s \\rightarrow F = \\frac{\\Delta p}{\\tau} = \\frac{-14 N s}{0.010 s} = -1400 N$\n",
    "\\\n",
    "\\\n",
    "**c)**\n",
    "\\\n",
    "$$F(t)=F_{\\text{max}} \\cdot e^{-\\left(\\frac{t}{\\tau} \\right)^2} \\rightarrow \\int_{-\\infty}^{\\infty} F(t) dt = F_{\\text{max}} \\int_{-\\infty}^{\\infty} e^{-(\\frac{t}{\\tau})^2} dt = F_{\\text{max}} \\int_{-\\infty}^{\\infty} e^{-(u)^2} \\frac{1}{u'}du$$\n",
    "\n",
    ", der $u=\\frac{t}{\\tau}$ og $u' = \\frac{1}{\\tau}$ slik at \n",
    "\n",
    "$$F_{\\text{max}} \\int_{-\\infty}^{\\infty} e^{-(u)^2} \\cdot \\tau du = F_{\\text{max}} \\cdot \\tau \\int_{-\\infty}^{\\infty} e^{-(u)^2} du$$\n",
    "\n",
    ", slik at $\\int_{-\\infty}^{\\infty} e^{-(u)^2} du = \\sqrt{\\frac{\\pi}{1}} = \\sqrt{\\pi}$ og vi får dermed at\n",
    "\n",
    "$$ F_{\\text{max}} \\cdot \\tau \\cdot \\sqrt{\\pi} = \\Delta p \\rightarrow F_{max} = \\frac{\\Delta p}{\\sqrt{\\pi}\\cdot \\tau} = \\frac{-14 N s}{\\sqrt{\\pi} \\cdot 0.010 s}≈ -790 N$$"
   ]
  },
  {
   "attachments": {},
   "cell_type": "markdown",
   "metadata": {},
   "source": [
    "## Oppgave 2\n",
    "\n",
    "En bil med masse $m$ og fart $v$ kolliderer med en annen bil med masse $2m$ som i utgangspunktet er i ro, i et rett, sentralt støt. Bilene blir hengende sammen og beveger seg som ett legeme etter støtet.\n",
    "\n",
    "Hvor stor prosentandel av bilenes kinetiske energi går tapt i støtet?\n",
    "\n"
   ]
  },
  {
   "cell_type": "markdown",
   "metadata": {},
   "source": [
    "### Løsning\n",
    "Siden bilene henger sammen etter støtet kan vi utrykke bevaringen av bevegelsesmengde slik:\n",
    "$$mv_{før} + 2m \\cdot 0 = mv_{etter} + 2mv_{etter} = 3mv_{etter}$$\n",
    "\n",
    "Ved å forenkle kan vi finne forholde mellom for farten på den ene bilen før støtet, $v_{før}$, og begge bilene etter støtet, $v_{etter}$.\n",
    "\n",
    "$$ v_{før} = 3v_{etter} \\rightarrow v_{etter} = \\frac{v_{før}}{3}$$\n",
    "\n",
    "Ettersom det er et sentralt støt og det da er et energitap, kan formelen for bevaring av energi utrykkes slik, med konstantleddet, $C_{energitap}$, som utrykker energitapet.\n",
    "$$E_{før} = E_{etter} + C_{energitap}$$\n",
    "\n",
    "Videre putter kan vi putte inn verdiene og forenkle utrykket for bevaring av energi\n",
    "\n",
    "$$\\frac{1}{2}mv_{før}^2 = \\frac{1}{2}3m(\\frac{v_{før}}{3})^2 + C_{energitap} \\rightarrow v_{før}^2 = \\frac{v_{før}^2}{3} + C_{energitap}$$\n",
    "\n",
    "Gjennom forenklingene av utrykket lar jeg det ikke påvirke konstantleddet, ettersom vi er ute etter en prosentandel i denne oppgaven. Dette kan forsvares med at ettersom alle forenklingene gjort på de andre leddene har gått fra energi til enklere former impliserer det at energitapet, uttrykt som konstantleddet, $C_{energitap}$, er et produkt av de samme faktorene. Altså om vi hadde bevart alle faktorene ville vi kommet fram til det samme forholdet, men nå multiplisert med den opprinnelige energien, $E_{før}$.\n",
    "\n",
    "$$v_{før}^2 = \\frac{v_{før}^2}{3} + C_{energitap} \\rightarrow C_{energitap} = v_{før}^2 - \\frac{v_{før}^2}{3} \\rightarrow 1 - \\frac{1}{3} = \\frac{2}{3} = 66.667\\%$$\n"
   ]
  },
  {
   "cell_type": "markdown",
   "metadata": {},
   "source": [
    "## Oppgave 3\n",
    "To skøyteløpere med identisk masse $M$ står i ro ovenfor hverandre, og kan gli helt friksjonsfritt på isen. Løper A kaster en kasse med masse $m$ med en horisontal utgangsfart $v_0$, som løper B tar imot og holder fast i. Se figuren under.\n",
    "\n",
    "<center><img src=\"figurer/oppgave_skøyteløpere_kast.png\" alt=\"\" style=\"width: 400px;\"/></center>\n",
    "\n",
    "a) Hva blir farten $u_1$ til skøyteløper A etter å ha kastet fra seg kassen?\n",
    "\n",
    "b) Hvor stor er farten $u_2$ til skøyteløper B etter å ha tatt imot kassa? All bevegelse kan antas å foregå langs en rett linje.\n",
    "\n",
    "\n"
   ]
  },
  {
   "cell_type": "markdown",
   "metadata": {},
   "source": [
    "### Løsning\n",
    "**a)**\n",
    "\\\n",
    "$mv_0 = - Mu_1 \\rightarrow u_1 = - \\frac{mv_0}{M}$\n",
    "\\\n",
    "**b)**\n",
    "\\\n",
    "$mv_0 = u_2(m + M) \\rightarrow u_2 = \\frac{mv_0}{m + M}$"
   ]
  },
  {
   "attachments": {},
   "cell_type": "markdown",
   "metadata": {},
   "source": [
    "## Oppgave 4\n",
    "I en partikkelakselerator kolliderer et proton med masse $m_1$ og fart $1,0 \\cdot 10^6 \\textrm{ m/s}$ med et positron med masse $m_2$ som i utgangspunktet ligger i ro, i et rett, elastisk støt. Masseforholdet mellom protonet og positronet er $\\frac{m_2}{m_1}=\\frac{1}{2000}$.\n",
    "\n",
    "Hva blir protonets og positronets fart etter kollisjonen?\n",
    "\n",
    "\n"
   ]
  },
  {
   "cell_type": "markdown",
   "metadata": {},
   "source": [
    "### Løsning\n",
    "$$m_2 = \\frac{m_1}{2000}, v_0 = 1.0 \\cdot 10^6 m/s, u_0 = 0$$\n",
    "\n",
    "Siden det er et elastisk støt vet vi at energien er bevart etter støtet i tillegg til bevegelsesmengden, dermed kan vi bruke de to følgende ligningene\n",
    "\n",
    "$$m_1v_0 + m_2u_0 = m_1v_1 + m_2u_1$$ \n",
    "\n",
    "og\n",
    "\n",
    "$$\\frac{1}{2}m_1v_0^2 + \\frac{1}{2}m_2u_0^2 = \\frac{1}{2}m_1v_1^2 + \\frac{1}{2}m_2u_1^2$$ \n",
    "\n",
    "Ved å putte inn verdier og forkorte ligningen for bevaring av bevegelsesmengde kan vi finne en formel for farten til protonet etter støtet, $v_1$, uttrykt med farten til positronet etter støtet, $u_1$.\n",
    "\n",
    "$$m_1 \\cdot 1,0 \\cdot 10^6 m/s + \\frac{m_1}{2000} \\cdot 0= m_1v_1 + \\frac{m_1}{2000}u_1 \\rightarrow v_1 = 1.0 \\cdot 10^6 m/s - \\frac{1}{2000}u_1$$ \n",
    "\n",
    "Videre kan vi forkorte formelen for bevaring av energi ved elastisk støt og putte inn verdier for å finne farten til positronet etter støtet, $u_1$.\n",
    "\n",
    "$$\\frac{1}{2} \\cdot m_1 \\cdot (1,0 \\cdot 10^6 m/s)^2 + \\frac{1}{2} \\cdot \\frac{m_1}{2000} \\cdot 0^2 = \\frac{1}{2} \\cdot m_1v_1^2 + \\frac{1}{2} \\cdot \\frac{m_1}{2000}u_1^2$$\n",
    "\n",
    "\n",
    "$$(1,0 \\cdot 10^6 m/s)^2 = (1,0 \\cdot 10^6 m/s - \\frac{1}{2000}u_1)^2 + \\frac{1}{2000}u_1^2 $$ \n",
    "$$ u_1^2 = 2000 \\cdot ((1,0 \\cdot 10^6 m/s)^2 - (1,0 \\cdot 10^6 m/s - \\frac{1}{2000}u_1)^2) $$ \n",
    "$$ 2000 \\cdot (10^{12} - (10^{12} - 10^3 u_1 + \\frac{u_1^2}{2000^2}))$$\n",
    "$$2000 \\cdot 10^3 u_1 - \\frac{u_1^2}{2000} $$\n",
    "$$ u_1(2001 u_1 - 4.0 \\cdot 10^6) = 0 \\rightarrow u_1 \\neq 0 \\vee u_1 = \\frac{4.0 \\cdot 10^9}{2001} ≈ 2.0 \\cdot 10^6$$\n",
    "\n",
    "vi antar at farten til positronet etter støtet, $u_1$, ikke kan være lik null og vi kan nå finne farten til protonet etter støtet, $v_1$.\n",
    "\n",
    "$$v_1 = 1.0 \\cdot 10^6 m/s - \\frac{1}{2000} \\cdot \\frac{4.0 \\cdot 10^9}{2001} ≈ 1.0 \\cdot 10^6 m/s - 1000 = 9.99 \\cdot 10^6 m/s ≈ 1.0 \\cdot 10^6 m/s$$\n",
    "\n",
    "\n"
   ]
  },
  {
   "cell_type": "markdown",
   "metadata": {},
   "source": [
    "## Oppgave 5 Minilab\n",
    "\n",
    "Minilab 3 – Støyreduksjon i målinger\n",
    "\n",
    "I minilab 2 målte du akselerasjonen i en heis, plottet resultatene og fant den største akselerasjonen. Nå skal vi ta et steg videre: Hvordan kan vi forbedre disse målingene slik at vi får et mer pålitelig signal?\n",
    "\n",
    "<b>Utfordringen:</b></br>\n",
    "Rådataene fra sensoren inneholder støy, noe som kan gjøre det vanskelig å trekke presise konklusjoner. For å analysere akselerasjonsdataene bedre, må vi filtrere bort støy og hente ut et glattere signal.\n",
    "\n",
    "<b>Oppgave</b></br>\n",
    "Bruk en chatbot (for eksempel ChatGPT) til å undersøke hvordan du kan bruke Python til å filtrere bort støy i datasettet ditt. Målet er å få et jevnere signal som ligger stabilt midt i dataserien din.\n",
    "<b>Leveranse:</b></br>\n",
    "Du skal levere en kort rapport som inneholder:\n",
    "\n",
    "<ol>\n",
    "<li><b>Valg av chatbot:</b> Hvilken chatbot brukte du til å finne informasjon?\n",
    "<li><b>Effektive spørsmål:</b> Hvilke prompt brukte du for å finne riktig metode? (Du kan trenge flere forsøk.)\n",
    "<li><b>Filtreringsmetode:</b> Hvilken filtreringsalgoritme valgte du, og hvorfor?\n",
    "<li><b>Kildekode:</b> Python-kode som viser hvordan du filtrerte bort støyen.\n",
    "<li><b>Visualisering:</b> Et plot som viser det opprinnelige signalet sammen med det filtrerte signalet.\n",
    "<li><b>Refleksjon:</b> Hvilke utfordringer møtte du underveis, og hvordan løste du dem?\n",
    "</ol>\n",
    "\n",
    "Hensikten med denne dele av lab er å lære hvordan du kan KI verktøy til å finne løsninger på tekniske problemer, samtidig som du får praktisk erfaring med signalbehandling i Python.\n",
    "Lykke til!\n",
    "\n",
    "Minilabrapport skal levers inn separat. Du finner oppgaveteksten og hvor du skal gi innleveringen under:\n",
    "\n",
    "Trondheim>>IFYT1002>> Fysikk (BIDATA og FTHINGLOG)>> Minilab\n",
    "\n",
    "https://ntnu.blackboard.com/webapps/blackboard/content/listContentEditable.jsp?content_id=_2707337_1&course_id=_51281_1"
   ]
  },
  {
   "cell_type": "markdown",
   "metadata": {},
   "source": []
  }
 ],
 "metadata": {
  "kernelspec": {
   "display_name": "Python 3",
   "language": "python",
   "name": "python3"
  },
  "language_info": {
   "codemirror_mode": {
    "name": "ipython",
    "version": 3
   },
   "file_extension": ".py",
   "mimetype": "text/x-python",
   "name": "python",
   "nbconvert_exporter": "python",
   "pygments_lexer": "ipython3",
   "version": "3.8.5"
  },
  "vscode": {
   "interpreter": {
    "hash": "551ea7ae10b114133e2fbac23ef1e8e3e30b0e580eb9fe1d9fc046518af6d1fa"
   }
  }
 },
 "nbformat": 4,
 "nbformat_minor": 2
}
