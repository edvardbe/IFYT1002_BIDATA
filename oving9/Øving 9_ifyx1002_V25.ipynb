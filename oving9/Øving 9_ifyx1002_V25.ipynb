{
 "cells": [
  {
   "cell_type": "markdown",
   "metadata": {},
   "source": [
    "# Øving 9 IFYX1002\n",
    "## Oppgave 1\n",
    "I et gammeldags TV-apparat tegnes bildet opp av elektroner som akselereres gjennom et elektrisk felt, og som deretter produserer en lysprikk når elektronet treffer en fosforbelagt skjerm.\n",
    "\n",
    "I et bestemt TV-apparat akselereres et elektron i det homogene feltet mellom to parallelle metallplater med plateavstand $d=20 \\textrm{ cm}$, der spenningen mellom platene er $\\Delta V=2,0 \\textrm{ kV}$. Se figuren under.\n",
    "\n",
    "<center><img src=\"figurer/oppgave_katodestråle_elektron_elektrisk_felt.png\" alt=\"\" style=\"width: 200px;\"/></center>\n",
    "\n",
    "a) Bestem farten til et elektron som akselereres med null startfart fra den negative plata, idet elektronet når den positive plata. \n",
    "\n",
    "b) Hva er den elektriske feltstyrken $E$ mellom platene?"
   ]
  },
  {
   "cell_type": "markdown",
   "metadata": {},
   "source": [
    "## Oppgave 2\n",
    "En luftfylt platekondensator med gitt plateareal har i utgangspunktet en plateavstand $d$ og er ladet opp til en spenning $V$ ved hjelp av et batteri.\n",
    "\n",
    "Kondensatoren blir så koblet fra batteriet, og deretter dobles plateavstanden. Hva blir spenningen mellom kondensatorplatene etter dette, dvs. idet plateavstanden er $2d$?\n",
    "\n",
    "A. $\\frac{V}{4}$\n",
    "\n",
    "B. $\\frac{V}{2}$\n",
    "\n",
    "C. $V$\n",
    "\n",
    "D. $2V$\n",
    "\n",
    "E. $4V$"
   ]
  },
  {
   "cell_type": "markdown",
   "metadata": {},
   "source": [
    "## Oppgave 3\n",
    "Du har 5 identiske kondensatorer med kapasitans $1,0 \\textrm { mF}$ som skal kobles sammen slik at alle kondensatorene tas i bruk.\n",
    "\n",
    "Hvordan må kondensatorene kobles for å få høyest mulig ekvivalent kapasitans, og hva blir den høyeste mulige kapasitansen for koblingen?\n",
    "\n",
    "\n",
    "A. Parallellkobling, maksimal kapasitans $5,0 \\textrm{ mF}$\n",
    "\n",
    "B. Parallellkobling, maksimal kapasitans $1,0 \\textrm{ mF}$\n",
    "\n",
    "C. Parallellkobling, maksimal kapasitans $0,20 \\textrm{ mF}$\n",
    "\n",
    "D. Seriekobling, maksimal kapasitans $5,0 \\textrm{ mF}$\n",
    "\n",
    "E. Seriekobling, maksimal kapasitans $1,0 \\textrm{ mF}$ "
   ]
  },
  {
   "cell_type": "markdown",
   "metadata": {},
   "source": [
    "## Oppgave 4\n",
    "a) Bestem den ekvivalente kapasitansen mellom de to markerte punktene a og b i kretsen under, når kondensatorene har kapasitanser $C_1=3,0 \\ \\mu \\textrm{F}$, $C_2=6,0 \\ \\mu \\textrm{F}$, $C_3=2,0 \\ \\mu \\textrm{F}$ .\n",
    "\n",
    "<center><img src=\"figurer/oppgave_krets_kondensatorer_ekvivalent_kapasitans.png\" alt=\"\" style=\"width: 400px;\"/></center>\n",
    " \n",
    "Anta at spenningen mellom a og b er $V_{\\textrm{ab}}=12 \\textrm{ V}$.\n",
    "\n",
    "b)\tBestem mengden ladning lagret på hver av kondensatorene.\n",
    "\n",
    "c)\tBestem spenningen over hver av kondensatorene.\n"
   ]
  }
 ],
 "metadata": {
  "kernelspec": {
   "display_name": "Python 3",
   "language": "python",
   "name": "python3"
  },
  "language_info": {
   "codemirror_mode": {
    "name": "ipython",
    "version": 3
   },
   "file_extension": ".py",
   "mimetype": "text/x-python",
   "name": "python",
   "nbconvert_exporter": "python",
   "pygments_lexer": "ipython3",
   "version": "3.8.5"
  },
  "vscode": {
   "interpreter": {
    "hash": "551ea7ae10b114133e2fbac23ef1e8e3e30b0e580eb9fe1d9fc046518af6d1fa"
   }
  }
 },
 "nbformat": 4,
 "nbformat_minor": 2
}
