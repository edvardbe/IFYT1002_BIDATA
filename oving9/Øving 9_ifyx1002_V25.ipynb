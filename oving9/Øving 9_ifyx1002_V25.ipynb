{
 "cells": [
  {
   "cell_type": "markdown",
   "metadata": {},
   "source": [
    "# Øving 9 IFYX1002\n",
    "## Oppgave 1\n",
    "I et gammeldags TV-apparat tegnes bildet opp av elektroner som akselereres gjennom et elektrisk felt, og som deretter produserer en lysprikk når elektronet treffer en fosforbelagt skjerm.\n",
    "\n",
    "I et bestemt TV-apparat akselereres et elektron i det homogene feltet mellom to parallelle metallplater med plateavstand $d=20 \\textrm{ cm}$, der spenningen mellom platene er $\\Delta V=2,0 \\textrm{ kV}$. Se figuren under.\n",
    "\n",
    "<center><img src=\"figurer/oppgave_katodestråle_elektron_elektrisk_felt.png\" alt=\"\" style=\"width: 200px;\"/></center>\n",
    "\n",
    "a) Bestem farten til et elektron som akselereres med null startfart fra den negative plata, idet elektronet når den positive plata. \n",
    "\n",
    "b) Hva er den elektriske feltstyrken $E$ mellom platene?"
   ]
  },
  {
   "cell_type": "markdown",
   "metadata": {},
   "source": [
    "### Løsning\n",
    "\n",
    "**a)**\n",
    "\n",
    "Om vi antar at ingen energi går tapt vil all den eletrisk potensielle energien $U_0$ blir gjort om til kinetisk energi $K$ \n",
    "$$U_0 + K_0 = U + K \\space \\rightarrow q \\Delta V + 0 = 0 + \\frac{1}{2}mv^2$$ \n",
    "\n",
    "Den forenklede formelen ser da slik ut.\n",
    "\n",
    "$$U_0 = K \\rightarrow  q \\Delta V = \\frac{1}{2}mv^2$$\n",
    "\n",
    "Finner så den elektrisk potensielle energien $U_0$ \n",
    "\n",
    "$$U_0 = q \\Delta V = -e \\cdot 2.0 kV = 3.2 \\cdot 10^{-16} J$$\n",
    "\n",
    "Gjør om på formelen slik at vi løser for farten $v$, og setter inn de kjente verdiene.\n",
    "\n",
    "$$v = \\sqrt{\\frac{2U_0}{m}} = \\sqrt{\\frac{ 2 \\cdot 3.2 \\cdot 10^{-16} J}{9.11 ·10^{-31} kg}}= 2.7 \\cdot 10^7 m/s$$ \n",
    "\n",
    "**b)**\n",
    "\n",
    "Den elektriske feltstyrken $E$ mellom platene kan vi finne med platespenning $\\Delta V$ og avtand $d$\n",
    "\n",
    "$$E = \\frac{\\Delta V}{d} = \\frac{2.0 kV}{0.2 m} = 1.0 \\cdot 10^4 V/m$$"
   ]
  },
  {
   "cell_type": "markdown",
   "metadata": {},
   "source": [
    "## Oppgave 2\n",
    "En luftfylt platekondensator med gitt plateareal har i utgangspunktet en plateavstand $d$ og er ladet opp til en spenning $V$ ved hjelp av et batteri.\n",
    "\n",
    "Kondensatoren blir så koblet fra batteriet, og deretter dobles plateavstanden. Hva blir spenningen mellom kondensatorplatene etter dette, dvs. idet plateavstanden er $2d$?\n",
    "\n",
    "A. $\\frac{V}{4}$\n",
    "\n",
    "B. $\\frac{V}{2}$\n",
    "\n",
    "C. $V$\n",
    "\n",
    "D. $2V$\n",
    "\n",
    "E. $4V$"
   ]
  },
  {
   "cell_type": "markdown",
   "metadata": {},
   "source": [
    "### Løsning\n",
    "\n",
    "**D**\n",
    "\n",
    "Bruker definisjonen for kapisitans som ladning per elektiskpotensial $C = \\frac{Q}{V}$ og som avhengig av geometrien $C = ε_0 \\frac{A}{d}$. \n",
    "\n",
    "$$ C = C \\rightarrow  \\frac{Q}{V} = ε_0 \\frac{A}{d}$$\n",
    "\n",
    "Hvis avstanden $d$ dobles vil kapitansen halveres. For at kapitansen skal halveres med formelen uttrykt med elektrisk potensial må også det elektriske potensialet dobles. Dermed er svaralternativ **D** riktig."
   ]
  },
  {
   "cell_type": "markdown",
   "metadata": {},
   "source": [
    "## Oppgave 3\n",
    "Du har 5 identiske kondensatorer med kapasitans $1,0 \\textrm { mF}$ som skal kobles sammen slik at alle kondensatorene tas i bruk.\n",
    "\n",
    "Hvordan må kondensatorene kobles for å få høyest mulig ekvivalent kapasitans, og hva blir den høyeste mulige kapasitansen for koblingen?\n",
    "\n",
    "\n",
    "A. Parallellkobling, maksimal kapasitans $5,0 \\textrm{ mF}$\n",
    "\n",
    "B. Parallellkobling, maksimal kapasitans $1,0 \\textrm{ mF}$\n",
    "\n",
    "C. Parallellkobling, maksimal kapasitans $0,20 \\textrm{ mF}$\n",
    "\n",
    "D. Seriekobling, maksimal kapasitans $5,0 \\textrm{ mF}$\n",
    "\n",
    "E. Seriekobling, maksimal kapasitans $1,0 \\textrm{ mF}$ "
   ]
  },
  {
   "cell_type": "markdown",
   "metadata": {},
   "source": [
    "### Løsning\n",
    "\n",
    "**A**\n",
    "\n",
    "Ved parallelkobling uttrykkes kapasitensen slik, $C_{tot} = C_1 + C_2 + ... + C_n$, mens ved seriekobling blir den totale kapasitansen uttrykt slik, $\\frac{1}{C_{tot}} = \\frac{1}{C_{1}} + \\frac{1}{C_{2}} +... + \\frac{1}{C_{n}}$\n",
    "\n",
    "Så ved dette tilfellet blir de totale kapasitansene i parallelkobling \n",
    "$$C_{tot} = 1 mF + 1 mF + 1 mF + 1 mF + 1 mF = 5 mF$$\n",
    "mens ved seriekobling har vi\n",
    "$$\\frac{1}{C_{tot}} = \\frac{1}{1} mF + \\frac{1}{1} mF + \\frac{1}{1} mF + \\frac{1}{1} mF + \\frac{1}{1} mF \\rightarrow C_{tot} = \\frac{1}{5} mF$$\n",
    "\n",
    "og dermed er svaralternativ A korrekt."
   ]
  },
  {
   "cell_type": "markdown",
   "metadata": {},
   "source": [
    "## Oppgave 4\n",
    "a) Bestem den ekvivalente kapasitansen mellom de to markerte punktene a og b i kretsen under, når kondensatorene har kapasitanser $C_1=3,0 \\ \\mu \\textrm{F}$, $C_2=6,0 \\ \\mu \\textrm{F}$, $C_3=2,0 \\ \\mu \\textrm{F}$ .\n",
    "\n",
    "<center><img src=\"figurer/oppgave_krets_kondensatorer_ekvivalent_kapasitans.png\" alt=\"\" style=\"width: 400px;\"/></center>\n",
    " \n",
    "Anta at spenningen mellom a og b er $V_{\\textrm{ab}}=12 \\textrm{ V}$.\n",
    "\n",
    "b)\tBestem mengden ladning lagret på hver av kondensatorene.\n",
    "\n",
    "c)\tBestem spenningen over hver av kondensatorene.\n"
   ]
  },
  {
   "cell_type": "markdown",
   "metadata": {},
   "source": [
    "### Løsning\n",
    "\n",
    "**a)**\n",
    "\n",
    "Vi finner først kapasiteten ved de seriekoblede kondensatorene.\n",
    "\n",
    "$$C_{serie} = \\frac{1}{\\frac{1}{C_1} + \\frac{1}{C_2}} = \\frac{1}{\\frac{1}{3.0 \\mu F} + \\frac{1}{6.0 \\mu F}} = 2.0 \\mu F$$\n",
    "\n",
    "Så finner vi den totale ekvivalente kapitansen ved å summere den seriekoblede kapitansen med den tredje kondensatoren.\n",
    "$$C_{tot} = C_{serie} + C_3 = 2.0 \\mu F + 2.0 \\mu F = 4.0 \\mu F$$\n",
    "\n",
    "**b)**\n",
    "\n",
    "Den totale ladningen i kretsen kan uttrykkes slik\n",
    "\n",
    "$$Q_{tot} = C_{tot}V_{ab} = 4.0 \\mu F \\cdot 12 V = 48 \\mu C$$\n",
    "\n",
    "Ettersom kondensatorer i parallell har de samme spenningene vil da ladningen i $C_3$ kunne utledes slik\n",
    "\n",
    "$$Q_3 = C_3 V_{ab} = 2.0 \\mu F \\cdot 12 V = 24 \\mu C$$\n",
    "\n",
    "Ladningen mellom kondensatorene $C_1$ og $C_2$ vil da være like og tilsvare den resterende ladningen.\n",
    "\n",
    "$$Q_1 = Q_2 = Q_{tot} - Q_3 = 24 \\mu C$$\n",
    "\n",
    "\n",
    "\n",
    "\n",
    "**c)**\n",
    "\n",
    "Som nevnt tidligere vet vi at spenningen i parallel er den samme som den totale spenningen.\n",
    "\n",
    "$$V_3 = V_{ab} = 12V$$\n",
    "\n",
    "For spenninger i parallel må den totale spenningen fordeles over kondensatorene.\n",
    "\n",
    "$$V_1 = \\frac{Q_1}{C_1} = \\frac{24 \\mu C}{3.0 \\mu F} = 8 V$$\n",
    "\n",
    "$$V_2 = \\frac{Q_2}{C_2} = \\frac{24 \\mu C}{6.0 \\mu F} = 4 V$$"
   ]
  }
 ],
 "metadata": {
  "kernelspec": {
   "display_name": "Python 3",
   "language": "python",
   "name": "python3"
  },
  "language_info": {
   "codemirror_mode": {
    "name": "ipython",
    "version": 3
   },
   "file_extension": ".py",
   "mimetype": "text/x-python",
   "name": "python",
   "nbconvert_exporter": "python",
   "pygments_lexer": "ipython3",
   "version": "3.8.5"
  },
  "vscode": {
   "interpreter": {
    "hash": "551ea7ae10b114133e2fbac23ef1e8e3e30b0e580eb9fe1d9fc046518af6d1fa"
   }
  }
 },
 "nbformat": 4,
 "nbformat_minor": 2
}
